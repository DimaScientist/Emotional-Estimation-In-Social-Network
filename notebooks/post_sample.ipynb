{
 "cells": [
  {
   "cell_type": "code",
   "execution_count": 1,
   "metadata": {
    "collapsed": true
   },
   "outputs": [],
   "source": [
    "import os.path\n",
    "\n",
    "import requests\n",
    "import pandas as pd\n",
    "\n",
    "parent_dir = os.path.dirname(os.getcwd())"
   ]
  },
  {
   "cell_type": "code",
   "execution_count": 2,
   "outputs": [],
   "source": [
    "ACCESS_TOKEN = os.getenv(\"ACCESS_TOKEN\", \"eb06dbe73806fa1fc53da19c1087984967f824e62296e48de5a505fb783d12c0bb1e89fb43e48c6736f2f\")"
   ],
   "metadata": {
    "collapsed": false,
    "pycharm": {
     "name": "#%%\n"
    }
   }
  },
  {
   "cell_type": "code",
   "execution_count": 3,
   "outputs": [],
   "source": [
    "group_name = \"overhear\""
   ],
   "metadata": {
    "collapsed": false,
    "pycharm": {
     "name": "#%%\n"
    }
   }
  },
  {
   "cell_type": "code",
   "execution_count": 4,
   "outputs": [],
   "source": [
    "VK_API_URL = \"https://api.vk.com/method/{method}\""
   ],
   "metadata": {
    "collapsed": false,
    "pycharm": {
     "name": "#%%\n"
    }
   }
  },
  {
   "cell_type": "code",
   "execution_count": 5,
   "outputs": [],
   "source": [
    "group_info = requests.get(url=VK_API_URL.format(method=\"groups.getById\"),\n",
    "                          params={\n",
    "                              \"v\": 5.131,\n",
    "                              \"access_token\": ACCESS_TOKEN,\n",
    "                              \"group_ids\": group_name,\n",
    "                              \"fields\": \"description\",\n",
    "                          })"
   ],
   "metadata": {
    "collapsed": false,
    "pycharm": {
     "name": "#%%\n"
    }
   }
  },
  {
   "cell_type": "code",
   "execution_count": 6,
   "outputs": [
    {
     "data": {
      "text/plain": "{'error': {'error_code': 5,\n  'error_msg': 'User authorization failed: access_token has expired.',\n  'request_params': [{'key': 'v', 'value': '5.131'},\n   {'key': 'group_ids', 'value': 'overhear'},\n   {'key': 'fields', 'value': 'description'},\n   {'key': 'method', 'value': 'groups.getById'},\n   {'key': 'oauth', 'value': '1'}]}}"
     },
     "execution_count": 6,
     "metadata": {},
     "output_type": "execute_result"
    }
   ],
   "source": [
    "group_info.json()"
   ],
   "metadata": {
    "collapsed": false,
    "pycharm": {
     "name": "#%%\n"
    }
   }
  },
  {
   "cell_type": "code",
   "execution_count": 7,
   "outputs": [
    {
     "ename": "KeyError",
     "evalue": "'response'",
     "output_type": "error",
     "traceback": [
      "\u001B[1;31m---------------------------------------------------------------------------\u001B[0m",
      "\u001B[1;31mKeyError\u001B[0m                                  Traceback (most recent call last)",
      "Input \u001B[1;32mIn [7]\u001B[0m, in \u001B[0;36m<cell line: 1>\u001B[1;34m()\u001B[0m\n\u001B[1;32m----> 1\u001B[0m group_id \u001B[38;5;241m=\u001B[39m \u001B[43mgroup_info\u001B[49m\u001B[38;5;241;43m.\u001B[39;49m\u001B[43mjson\u001B[49m\u001B[43m(\u001B[49m\u001B[43m)\u001B[49m\u001B[43m[\u001B[49m\u001B[38;5;124;43m\"\u001B[39;49m\u001B[38;5;124;43mresponse\u001B[39;49m\u001B[38;5;124;43m\"\u001B[39;49m\u001B[43m]\u001B[49m[\u001B[38;5;241m0\u001B[39m][\u001B[38;5;124m\"\u001B[39m\u001B[38;5;124mid\u001B[39m\u001B[38;5;124m\"\u001B[39m]\n",
      "\u001B[1;31mKeyError\u001B[0m: 'response'"
     ]
    }
   ],
   "source": [
    "group_id = group_info.json()[\"response\"][0][\"id\"]"
   ],
   "metadata": {
    "collapsed": false,
    "pycharm": {
     "name": "#%%\n"
    }
   }
  },
  {
   "cell_type": "code",
   "execution_count": null,
   "outputs": [],
   "source": [
    "group_id"
   ],
   "metadata": {
    "collapsed": false,
    "pycharm": {
     "name": "#%%\n"
    }
   }
  },
  {
   "cell_type": "code",
   "execution_count": null,
   "outputs": [],
   "source": [
    "all_posts = 10000\n",
    "loaded = 100\n",
    "offset = loaded"
   ],
   "metadata": {
    "collapsed": false,
    "pycharm": {
     "name": "#%%\n"
    }
   }
  },
  {
   "cell_type": "code",
   "execution_count": null,
   "outputs": [],
   "source": [
    "info = requests.get(url=VK_API_URL.format(method=\"wall.get\"),\n",
    "                    params={\n",
    "                        \"v\": 5.131,\n",
    "                        \"access_token\": ACCESS_TOKEN,\n",
    "                        \"owner_id\": -group_id,\n",
    "                        \"count\": 100,\n",
    "                        \"offset\": offset,\n",
    "                    })"
   ],
   "metadata": {
    "collapsed": false,
    "pycharm": {
     "name": "#%%\n"
    }
   }
  },
  {
   "cell_type": "code",
   "execution_count": null,
   "outputs": [],
   "source": [
    "info.json()[\"response\"][\"items\"][0]"
   ],
   "metadata": {
    "collapsed": false,
    "pycharm": {
     "name": "#%%\n"
    }
   }
  },
  {
   "cell_type": "code",
   "execution_count": null,
   "outputs": [],
   "source": [
    "posts = []"
   ],
   "metadata": {
    "collapsed": false,
    "pycharm": {
     "name": "#%%\n"
    }
   }
  },
  {
   "cell_type": "code",
   "execution_count": null,
   "outputs": [],
   "source": [
    "def post_to_dict(item: dict) -> dict:\n",
    "    return {\"id\": item[\"id\"], \"text\": item[\"text\"], \"likes\": item[\"likes\"][\"count\"], \"reposts\": item[\"reposts\"][\"count\"], \"views\": item[\"views\"][\"count\"]}\n",
    "\n",
    "while len(posts) <\\\n",
    "        100000:\n",
    "    offset = len(posts)\n",
    "    info = requests.get(url=VK_API_URL.format(method=\"wall.get\"),\n",
    "                    params={\n",
    "                        \"v\": 5.131,\n",
    "                        \"access_token\": ACCESS_TOKEN,\n",
    "                        \"owner_id\": -group_id,\n",
    "                        \"count\": 100,\n",
    "                        \"offset\": offset,\n",
    "                    })\n",
    "    if info.status_code != 200:\n",
    "        break\n",
    "    try:\n",
    "        for item in info.json()[\"response\"][\"items\"]:\n",
    "            posts.append(post_to_dict(item))\n",
    "    except KeyError:\n",
    "        continue\n",
    "    finally:\n",
    "        print(len(posts))"
   ],
   "metadata": {
    "collapsed": false,
    "pycharm": {
     "name": "#%%\n"
    }
   }
  },
  {
   "cell_type": "code",
   "execution_count": null,
   "outputs": [],
   "source": [
    "posts[10:15]"
   ],
   "metadata": {
    "collapsed": false,
    "pycharm": {
     "name": "#%%\n"
    }
   }
  },
  {
   "cell_type": "code",
   "execution_count": null,
   "outputs": [],
   "source": [
    "posts_df = pd.DataFrame(data=posts)"
   ],
   "metadata": {
    "collapsed": false,
    "pycharm": {
     "name": "#%%\n"
    }
   }
  },
  {
   "cell_type": "code",
   "execution_count": null,
   "outputs": [],
   "source": [
    "posts_df.head()"
   ],
   "metadata": {
    "collapsed": false,
    "pycharm": {
     "name": "#%%\n"
    }
   }
  },
  {
   "cell_type": "code",
   "execution_count": null,
   "outputs": [],
   "source": [
    "posts_df.to_csv(os.path.join(parent_dir, \"datasets/posts.csv\"), index=False)"
   ],
   "metadata": {
    "collapsed": false,
    "pycharm": {
     "name": "#%%\n"
    }
   }
  },
  {
   "cell_type": "code",
   "execution_count": null,
   "outputs": [],
   "source": [],
   "metadata": {
    "collapsed": false,
    "pycharm": {
     "name": "#%%\n"
    }
   }
  }
 ],
 "metadata": {
  "kernelspec": {
   "display_name": "Python 3",
   "language": "python",
   "name": "python3"
  },
  "language_info": {
   "codemirror_mode": {
    "name": "ipython",
    "version": 2
   },
   "file_extension": ".py",
   "mimetype": "text/x-python",
   "name": "python",
   "nbconvert_exporter": "python",
   "pygments_lexer": "ipython2",
   "version": "2.7.6"
  }
 },
 "nbformat": 4,
 "nbformat_minor": 0
}