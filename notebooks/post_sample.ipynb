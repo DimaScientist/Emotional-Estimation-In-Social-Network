{
 "cells": [
  {
   "cell_type": "code",
   "execution_count": 1,
   "metadata": {
    "collapsed": true,
    "pycharm": {
     "name": "#%%\n"
    }
   },
   "outputs": [],
   "source": [
    "import os.path\n",
    "\n",
    "import requests\n",
    "import pandas as pd\n",
    "\n",
    "parent_dir = os.path.dirname(os.getcwd())"
   ]
  },
  {
   "cell_type": "code",
   "execution_count": 2,
   "outputs": [],
   "source": [
    "ACCESS_TOKEN = os.getenv(\"ACCESS_TOKEN\", \"f964dcbdc8413c5d56c0ff2596bc9f75dd978ef966f431c991461e7dea1d656340c362975e34bac743fea\")"
   ],
   "metadata": {
    "collapsed": false,
    "pycharm": {
     "name": "#%%\n"
    }
   }
  },
  {
   "cell_type": "code",
   "execution_count": 3,
   "outputs": [],
   "source": [
    "group_name = \"overhear\""
   ],
   "metadata": {
    "collapsed": false,
    "pycharm": {
     "name": "#%%\n"
    }
   }
  },
  {
   "cell_type": "code",
   "execution_count": 4,
   "outputs": [],
   "source": [
    "VK_API_URL = \"https://api.vk.com/method/{method}\""
   ],
   "metadata": {
    "collapsed": false,
    "pycharm": {
     "name": "#%%\n"
    }
   }
  },
  {
   "cell_type": "code",
   "execution_count": 5,
   "outputs": [],
   "source": [
    "group_info = requests.get(url=VK_API_URL.format(method=\"groups.getById\"),\n",
    "                          params={\n",
    "                              \"v\": 5.131,\n",
    "                              \"access_token\": ACCESS_TOKEN,\n",
    "                              \"group_ids\": group_name,\n",
    "                              \"fields\": \"description\",\n",
    "                          })"
   ],
   "metadata": {
    "collapsed": false,
    "pycharm": {
     "name": "#%%\n"
    }
   }
  },
  {
   "cell_type": "code",
   "execution_count": 6,
   "outputs": [
    {
     "data": {
      "text/plain": "{'response': [{'id': 34215577,\n   'description': 'Мы публикуем только то, что присылают наши читатели.\\n\\nПоделиться откровением совершенно анонимно можно только с помощью нашего сайта https://ideer.ru/add или мобильного приложения https://ideer.app\\n\\n«Подслушано» — социальный развлекательный проект, в котором люди делятся каждый день своими секретами, откровениями и жизненными ситуациями анонимно перед огромной аудиторией. Добро пожаловать!\\n\\nЕсли вы впечатлительны и высокоморальны, просим вас не читать контент, который можно увидеть на стене сообщества, лучше сразу закройте эту страницу и не возвращайтесь сюда никогда :) \\n\\nТут особенная атмосфера и эмоции от прочитанного очень разнятся.\\n\\nЗачастую нас стоит читать между строк и никогда во время еды. \\n\\nЗдесь вы можете увидеть лишь малую часть того, что происходит в нашем мобильном приложении: https://ideer.app\\n\\nМнение редакции не всегда совпадает с мнением авторов.',\n   'name': 'Подслушано – Здесь говорят о тебе',\n   'screen_name': 'overhear',\n   'is_closed': 0,\n   'type': 'page',\n   'photo_50': 'https://sun7-9.userapi.com/s/v1/ig2/Fhffxn5cVx7AmFpxLSdeuCccPl4t6qOL4CNoRUYIJPSvvLcBfTnQk1xK1NcsNpXSNwZfWREGiKtQfTVX4RS29WF7.jpg?size=50x50&quality=95&crop=0,312,1545,1545&ava=1',\n   'photo_100': 'https://sun7-9.userapi.com/s/v1/ig2/n10y8dYzKID3aX0YA5VzHVstRGmumy_NaYMK0LNatekH6h2BPezsxAwDqzJAM5EGUhGK6OkVJqZmLat4NdMmTd_t.jpg?size=100x100&quality=95&crop=0,312,1545,1545&ava=1',\n   'photo_200': 'https://sun7-9.userapi.com/s/v1/ig2/W28CVMG_o3YA0Iakjyc9sc4I27Nno8ouDxT0GagsKyH0ueNvF0Cf2LANwLLOu7bVd_bOwlaGkgsSth9LDwN1cLR-.jpg?size=200x200&quality=95&crop=0,312,1545,1545&ava=1'}]}"
     },
     "execution_count": 6,
     "metadata": {},
     "output_type": "execute_result"
    }
   ],
   "source": [
    "group_info.json()"
   ],
   "metadata": {
    "collapsed": false,
    "pycharm": {
     "name": "#%%\n"
    }
   }
  },
  {
   "cell_type": "code",
   "execution_count": 7,
   "outputs": [],
   "source": [
    "group_id = group_info.json()[\"response\"][0][\"id\"]"
   ],
   "metadata": {
    "collapsed": false,
    "pycharm": {
     "name": "#%%\n"
    }
   }
  },
  {
   "cell_type": "code",
   "execution_count": 8,
   "outputs": [
    {
     "data": {
      "text/plain": "34215577"
     },
     "execution_count": 8,
     "metadata": {},
     "output_type": "execute_result"
    }
   ],
   "source": [
    "group_id"
   ],
   "metadata": {
    "collapsed": false,
    "pycharm": {
     "name": "#%%\n"
    }
   }
  },
  {
   "cell_type": "code",
   "execution_count": 9,
   "outputs": [],
   "source": [
    "all_posts = 10000\n",
    "loaded = 100\n",
    "offset = loaded"
   ],
   "metadata": {
    "collapsed": false,
    "pycharm": {
     "name": "#%%\n"
    }
   }
  },
  {
   "cell_type": "code",
   "execution_count": 10,
   "outputs": [],
   "source": [
    "info = requests.get(url=VK_API_URL.format(method=\"wall.get\"),\n",
    "                    params={\n",
    "                        \"v\": 5.131,\n",
    "                        \"access_token\": ACCESS_TOKEN,\n",
    "                        \"owner_id\": -group_id,\n",
    "                        \"count\": 100,\n",
    "                        \"offset\": offset,\n",
    "                    })"
   ],
   "metadata": {
    "collapsed": false,
    "pycharm": {
     "name": "#%%\n"
    }
   }
  },
  {
   "cell_type": "code",
   "execution_count": 19,
   "outputs": [
    {
     "data": {
      "text/plain": "{'id': 1674548,\n 'from_id': -34215577,\n 'owner_id': -34215577,\n 'date': 1654343400,\n 'marked_as_ads': 0,\n 'is_favorite': False,\n 'post_type': 'post',\n 'text': 'Один мой отсаженный знакомый на похоронах своей дальней тётки сказал: \"Бог дал — Бог взял\", — после чего его же мама отпиздила его какой-то чёрной тряпкой и его выставили с поминок.\\n\\n#Подслушано_чернуха@overhear',\n 'post_source': {'type': 'api'},\n 'comments': {'can_post': 0,\n  'count': 13,\n  'donut': {'placeholder': {'text': 'Чтобы видеть больше комментариев и\\xa0оставлять свои, поддержите сообщество.'}}},\n 'likes': {'can_like': 1, 'count': 728, 'user_likes': 0, 'can_publish': 1},\n 'reposts': {'count': 229, 'user_reposted': 0},\n 'views': {'count': 94577},\n 'donut': {'is_donut': False},\n 'short_text_rate': 0.8,\n 'hash': '9a4cAq64W0uk4pnophSXNe2rCygK'}"
     },
     "execution_count": 19,
     "metadata": {},
     "output_type": "execute_result"
    }
   ],
   "source": [
    "info.json()[\"response\"][\"items\"][2]"
   ],
   "metadata": {
    "collapsed": false,
    "pycharm": {
     "name": "#%%\n"
    }
   }
  },
  {
   "cell_type": "code",
   "execution_count": null,
   "outputs": [],
   "source": [
    "posts = []"
   ],
   "metadata": {
    "collapsed": false,
    "pycharm": {
     "name": "#%%\n"
    }
   }
  },
  {
   "cell_type": "code",
   "execution_count": null,
   "outputs": [],
   "source": [
    "def post_to_dict(item: dict) -> dict:\n",
    "    return {\"id\": item[\"id\"], \"text\": item[\"text\"], \"likes\": item[\"likes\"][\"count\"], \"reposts\": item[\"reposts\"][\"count\"], \"views\": item[\"views\"][\"count\"]}\n",
    "\n",
    "while len(posts) <\\\n",
    "        100000:\n",
    "    offset = len(posts)\n",
    "    info = requests.get(url=VK_API_URL.format(method=\"wall.get\"),\n",
    "                    params={\n",
    "                        \"v\": 5.131,\n",
    "                        \"access_token\": ACCESS_TOKEN,\n",
    "                        \"owner_id\": -group_id,\n",
    "                        \"count\": 100,\n",
    "                        \"offset\": offset,\n",
    "                    })\n",
    "    if info.status_code != 200:\n",
    "        break\n",
    "    try:\n",
    "        for item in info.json()[\"response\"][\"items\"]:\n",
    "            posts.append(post_to_dict(item))\n",
    "    except KeyError:\n",
    "        continue\n",
    "    finally:\n",
    "        print(len(posts))"
   ],
   "metadata": {
    "collapsed": false,
    "pycharm": {
     "name": "#%%\n"
    }
   }
  },
  {
   "cell_type": "code",
   "execution_count": null,
   "outputs": [],
   "source": [
    "posts[10:15]"
   ],
   "metadata": {
    "collapsed": false,
    "pycharm": {
     "name": "#%%\n"
    }
   }
  },
  {
   "cell_type": "code",
   "execution_count": null,
   "outputs": [],
   "source": [
    "posts_df = pd.DataFrame(data=posts)"
   ],
   "metadata": {
    "collapsed": false,
    "pycharm": {
     "name": "#%%\n"
    }
   }
  },
  {
   "cell_type": "code",
   "execution_count": null,
   "outputs": [],
   "source": [
    "posts_df.head()"
   ],
   "metadata": {
    "collapsed": false,
    "pycharm": {
     "name": "#%%\n"
    }
   }
  },
  {
   "cell_type": "code",
   "execution_count": null,
   "outputs": [],
   "source": [
    "posts_df.to_csv(os.path.join(parent_dir, \"datasets/posts.csv\"), index=False)"
   ],
   "metadata": {
    "collapsed": false,
    "pycharm": {
     "name": "#%%\n"
    }
   }
  },
  {
   "cell_type": "code",
   "execution_count": null,
   "outputs": [],
   "source": [],
   "metadata": {
    "collapsed": false,
    "pycharm": {
     "name": "#%%\n"
    }
   }
  }
 ],
 "metadata": {
  "kernelspec": {
   "display_name": "Python 3",
   "language": "python",
   "name": "python3"
  },
  "language_info": {
   "codemirror_mode": {
    "name": "ipython",
    "version": 2
   },
   "file_extension": ".py",
   "mimetype": "text/x-python",
   "name": "python",
   "nbconvert_exporter": "python",
   "pygments_lexer": "ipython2",
   "version": "2.7.6"
  }
 },
 "nbformat": 4,
 "nbformat_minor": 0
}