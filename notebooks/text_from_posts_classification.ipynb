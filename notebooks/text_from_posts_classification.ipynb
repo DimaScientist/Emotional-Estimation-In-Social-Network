{
 "cells": [
  {
   "cell_type": "code",
   "execution_count": null,
   "outputs": [],
   "source": [
    "!pip install dostoevsky\n",
    "!python -m dostoevsky download fasttext-social-network-model"
   ],
   "metadata": {
    "collapsed": false,
    "pycharm": {
     "name": "#%%\n",
     "is_executing": true
    }
   }
  },
  {
   "cell_type": "code",
   "execution_count": 62,
   "outputs": [],
   "source": [
    "import re\n",
    "\n",
    "import pandas as pd\n",
    "import numpy as np\n",
    "\n",
    "import os.path\n",
    "import warnings\n",
    "\n",
    "import nltk\n",
    "from nltk.corpus import stopwords\n",
    "\n",
    "from sklearn.pipeline import Pipeline\n",
    "from sklearn.feature_extraction.text import CountVectorizer, TfidfTransformer\n",
    "from sklearn.model_selection import train_test_split\n",
    "from sklearn.linear_model import LogisticRegression\n",
    "from sklearn.preprocessing import LabelEncoder\n",
    "from sklearn.metrics import accuracy_score, classification_report\n",
    "\n",
    "import matplotlib.pyplot as plt\n",
    "import seaborn as sns\n",
    "\n",
    "from tqdm import tqdm\n",
    "\n",
    "warnings.filterwarnings('ignore')\n",
    "\n",
    "from dostoevsky.tokenization import RegexTokenizer\n",
    "from dostoevsky.models import FastTextSocialNetworkModel\n",
    "\n",
    "parent_dir = os.path.dirname(os.getcwd())"
   ],
   "metadata": {
    "collapsed": false,
    "pycharm": {
     "name": "#%%\n"
    }
   }
  },
  {
   "cell_type": "code",
   "execution_count": 29,
   "outputs": [
    {
     "data": {
      "text/plain": "        id                                               text  likes  reposts  \\\n0  1632037  Однажды делал своей девушке куни. В самый моме...     19       34   \n1  1632031  Живу с молодым человеком и его мамой (временна...    369       64   \n2  1632022  Всегда презирала проституток, порноактрис. А п...    167       47   \n3  1632004  Подруга полгода пролежала в коме после аварии,...    307      184   \n4  1631999  Когда вернулся из армии, моя бабушка умерла и ...    820        9   \n\n   views     tag  \n0   5518  пошлое  \n1  53145  провал  \n2  27266    None  \n3  71438  пиздец  \n4  97900   успех  ",
      "text/html": "<div>\n<style scoped>\n    .dataframe tbody tr th:only-of-type {\n        vertical-align: middle;\n    }\n\n    .dataframe tbody tr th {\n        vertical-align: top;\n    }\n\n    .dataframe thead th {\n        text-align: right;\n    }\n</style>\n<table border=\"1\" class=\"dataframe\">\n  <thead>\n    <tr style=\"text-align: right;\">\n      <th></th>\n      <th>id</th>\n      <th>text</th>\n      <th>likes</th>\n      <th>reposts</th>\n      <th>views</th>\n      <th>tag</th>\n    </tr>\n  </thead>\n  <tbody>\n    <tr>\n      <th>0</th>\n      <td>1632037</td>\n      <td>Однажды делал своей девушке куни. В самый моме...</td>\n      <td>19</td>\n      <td>34</td>\n      <td>5518</td>\n      <td>пошлое</td>\n    </tr>\n    <tr>\n      <th>1</th>\n      <td>1632031</td>\n      <td>Живу с молодым человеком и его мамой (временна...</td>\n      <td>369</td>\n      <td>64</td>\n      <td>53145</td>\n      <td>провал</td>\n    </tr>\n    <tr>\n      <th>2</th>\n      <td>1632022</td>\n      <td>Всегда презирала проституток, порноактрис. А п...</td>\n      <td>167</td>\n      <td>47</td>\n      <td>27266</td>\n      <td>None</td>\n    </tr>\n    <tr>\n      <th>3</th>\n      <td>1632004</td>\n      <td>Подруга полгода пролежала в коме после аварии,...</td>\n      <td>307</td>\n      <td>184</td>\n      <td>71438</td>\n      <td>пиздец</td>\n    </tr>\n    <tr>\n      <th>4</th>\n      <td>1631999</td>\n      <td>Когда вернулся из армии, моя бабушка умерла и ...</td>\n      <td>820</td>\n      <td>9</td>\n      <td>97900</td>\n      <td>успех</td>\n    </tr>\n  </tbody>\n</table>\n</div>"
     },
     "execution_count": 29,
     "metadata": {},
     "output_type": "execute_result"
    }
   ],
   "source": [
    "posts_df = pd.read_csv(os.path.join(parent_dir, \"datasets/posts.csv\"))\n",
    "posts_df[\"tag\"] = posts_df[\"text\"].apply(lambda x: str(x).split(\"Подслушано\")[-1].replace(\"\\r\\n\\r\\n#\", \"\") if len(str(x).split(\"Подслушано\")) > 1 else None)\n",
    "posts_df[\"text\"] = posts_df[\"text\"].apply(lambda x: str(x).split(\"Подслушано\")[0])\n",
    "posts_df[\"tag\"] = posts_df[\"tag\"].apply(lambda x: str(x).replace(\"@overhear\", \"\").replace(\"\\r\", \"\").replace(\"\\n\", \" \").replace(\"_\", \"\"))\n",
    "posts_df[\"text\"] = posts_df[\"text\"].apply(lambda x: str(x).replace(\"\\r\", \"\").replace(\"\\n\", \" \").replace(\"\\t\", \" \"))\n",
    "posts_df.head()"
   ],
   "metadata": {
    "collapsed": false,
    "pycharm": {
     "name": "#%%\n"
    }
   }
  },
  {
   "cell_type": "code",
   "execution_count": 58,
   "outputs": [],
   "source": [
    "def clean_data(text: str) -> str:\n",
    "    \"\"\"Очистка данных.\"\"\"\n",
    "    letters_only = re.sub(\"[^а-яА-Яa-zA-Z]\", \" \", text)\n",
    "    lowercase_text = letters_only.lower()\n",
    "    no_stop_words = []\n",
    "    for word in lowercase_text.split():\n",
    "        if word not in set(stopwords.words(\"russian\")):\n",
    "            no_stop_words.append(word)\n",
    "    return \" \".join(no_stop_words)"
   ],
   "metadata": {
    "collapsed": false,
    "pycharm": {
     "name": "#%%\n"
    }
   }
  },
  {
   "cell_type": "code",
   "execution_count": 34,
   "outputs": [],
   "source": [
    "clean_posts = posts_df.copy()\n",
    "clean_posts[\"text\"] = clean_posts[\"text\"].apply(clean_data)"
   ],
   "metadata": {
    "collapsed": false,
    "pycharm": {
     "name": "#%%\n"
    }
   }
  },
  {
   "cell_type": "markdown",
   "source": [
    "Модель Достоевский"
   ],
   "metadata": {
    "collapsed": false,
    "pycharm": {
     "name": "#%% md\n"
    }
   }
  },
  {
   "cell_type": "code",
   "execution_count": null,
   "outputs": [],
   "source": [
    "tokenizer = RegexTokenizer()\n",
    "dostoevsky_model = FastTextSocialNetworkModel(tokenizer=tokenizer)\n",
    "\n",
    "text_posts = posts_df[\"text\"].to_list()\n",
    "results = dostoevsky_model.predict(text_posts)"
   ],
   "metadata": {
    "collapsed": false,
    "pycharm": {
     "name": "#%%\n"
    }
   }
  },
  {
   "cell_type": "code",
   "execution_count": 42,
   "outputs": [
    {
     "name": "stderr",
     "output_type": "stream",
     "text": [
      "100%|██████████| 87994/87994 [00:00<00:00, 483490.06it/s]\n"
     ]
    }
   ],
   "source": [
    "dostoevsky_posts = posts_df[[\"id\"]]\n",
    "emotions = []\n",
    "for res in tqdm(results):\n",
    "    max_estimation = 0\n",
    "    emotion = \"\"\n",
    "    for emotion_, estimation_ in res.items():\n",
    "        if emotion_ in [\"negative\", 'positive', 'neutral'] and max_estimation < estimation_:\n",
    "            emotion = emotion_\n",
    "            max_estimation = estimation_\n",
    "    emotions.append(emotion)\n",
    "dostoevsky_posts[\"emotion\"] = emotions"
   ],
   "metadata": {
    "collapsed": false,
    "pycharm": {
     "name": "#%%\n"
    }
   }
  },
  {
   "cell_type": "code",
   "execution_count": 43,
   "outputs": [
    {
     "data": {
      "text/plain": "        id   emotion\n0  1632037  negative\n1  1632031   neutral\n2  1632022   neutral\n3  1632004  positive\n4  1631999  negative",
      "text/html": "<div>\n<style scoped>\n    .dataframe tbody tr th:only-of-type {\n        vertical-align: middle;\n    }\n\n    .dataframe tbody tr th {\n        vertical-align: top;\n    }\n\n    .dataframe thead th {\n        text-align: right;\n    }\n</style>\n<table border=\"1\" class=\"dataframe\">\n  <thead>\n    <tr style=\"text-align: right;\">\n      <th></th>\n      <th>id</th>\n      <th>emotion</th>\n    </tr>\n  </thead>\n  <tbody>\n    <tr>\n      <th>0</th>\n      <td>1632037</td>\n      <td>negative</td>\n    </tr>\n    <tr>\n      <th>1</th>\n      <td>1632031</td>\n      <td>neutral</td>\n    </tr>\n    <tr>\n      <th>2</th>\n      <td>1632022</td>\n      <td>neutral</td>\n    </tr>\n    <tr>\n      <th>3</th>\n      <td>1632004</td>\n      <td>positive</td>\n    </tr>\n    <tr>\n      <th>4</th>\n      <td>1631999</td>\n      <td>negative</td>\n    </tr>\n  </tbody>\n</table>\n</div>"
     },
     "execution_count": 43,
     "metadata": {},
     "output_type": "execute_result"
    }
   ],
   "source": [
    "dostoevsky_posts.head()"
   ],
   "metadata": {
    "collapsed": false,
    "pycharm": {
     "name": "#%%\n"
    }
   }
  },
  {
   "cell_type": "code",
   "execution_count": 45,
   "outputs": [],
   "source": [
    "dostoevsky_posts.to_csv(os.path.join(parent_dir, \"results/dostoevsky_emotions.csv\"), index=False)"
   ],
   "metadata": {
    "collapsed": false,
    "pycharm": {
     "name": "#%%\n"
    }
   }
  },
  {
   "cell_type": "code",
   "execution_count": 46,
   "outputs": [
    {
     "data": {
      "text/plain": "<AxesSubplot:xlabel='emotion', ylabel='count'>"
     },
     "execution_count": 46,
     "metadata": {},
     "output_type": "execute_result"
    },
    {
     "data": {
      "text/plain": "<Figure size 432x288 with 1 Axes>",
      "image/png": "[encoded data removed]"
     },
     "metadata": {
      "needs_background": "light"
     },
     "output_type": "display_data"
    }
   ],
   "source": [
    "sns.countplot(x=\"emotion\", data=dostoevsky_posts)"
   ],
   "metadata": {
    "collapsed": false,
    "pycharm": {
     "name": "#%%\n"
    }
   }
  },
  {
   "cell_type": "markdown",
   "source": [
    "Модель кластеризации"
   ],
   "metadata": {
    "collapsed": false,
    "pycharm": {
     "name": "#%% md\n"
    }
   }
  },
  {
   "cell_type": "code",
   "execution_count": 48,
   "outputs": [
    {
     "data": {
      "text/plain": "<AxesSubplot:xlabel='emotion', ylabel='count'>"
     },
     "execution_count": 48,
     "metadata": {},
     "output_type": "execute_result"
    },
    {
     "data": {
      "text/plain": "<Figure size 432x288 with 1 Axes>",
      "image/png": "[encoded data removed]"
     },
     "metadata": {
      "needs_background": "light"
     },
     "output_type": "display_data"
    }
   ],
   "source": [
    "clustering_df = pd.read_csv(os.path.join(parent_dir, \"results/clustering.csv\"))\n",
    "clustering_df.loc[clustering_df[\"cluster\"] == 0, \"emotion\"] = \"neutral\"\n",
    "clustering_df.loc[clustering_df[\"cluster\"] == 1, \"emotion\"] = \"positive\"\n",
    "clustering_df.loc[clustering_df[\"cluster\"] == 2, \"emotion\"] = \"negative\"\n",
    "\n",
    "sns.countplot(x=\"emotion\", data=clustering_df)"
   ],
   "metadata": {
    "collapsed": false,
    "pycharm": {
     "name": "#%%\n"
    }
   }
  },
  {
   "cell_type": "code",
   "execution_count": 52,
   "outputs": [
    {
     "data": {
      "text/plain": "34031"
     },
     "execution_count": 52,
     "metadata": {},
     "output_type": "execute_result"
    }
   ],
   "source": [
    "np.sum(clustering_df[\"emotion\"] == dostoevsky_posts[\"emotion\"])"
   ],
   "metadata": {
    "collapsed": false,
    "pycharm": {
     "name": "#%%\n"
    }
   }
  },
  {
   "cell_type": "markdown",
   "source": [
    "Модель, обученная на маркированных данных"
   ],
   "metadata": {
    "collapsed": false,
    "pycharm": {
     "name": "#%% md\n"
    }
   }
  },
  {
   "cell_type": "code",
   "execution_count": 53,
   "outputs": [
    {
     "data": {
      "text/plain": "                                                text    id sentiment\n0  Досудебное расследование по факту покупки ЕНПФ...  1945  negative\n1  Медики рассказали о состоянии пострадавшего му...  1957  negative\n2  Прошел почти год, как железнодорожным оператор...  1969  negative\n3  По итогам 12 месяцев 2016 года на территории р...  1973  negative\n4  Астана. 21 ноября. Kazakhstan Today - Агентств...  1975  negative",
      "text/html": "<div>\n<style scoped>\n    .dataframe tbody tr th:only-of-type {\n        vertical-align: middle;\n    }\n\n    .dataframe tbody tr th {\n        vertical-align: top;\n    }\n\n    .dataframe thead th {\n        text-align: right;\n    }\n</style>\n<table border=\"1\" class=\"dataframe\">\n  <thead>\n    <tr style=\"text-align: right;\">\n      <th></th>\n      <th>text</th>\n      <th>id</th>\n      <th>sentiment</th>\n    </tr>\n  </thead>\n  <tbody>\n    <tr>\n      <th>0</th>\n      <td>Досудебное расследование по факту покупки ЕНПФ...</td>\n      <td>1945</td>\n      <td>negative</td>\n    </tr>\n    <tr>\n      <th>1</th>\n      <td>Медики рассказали о состоянии пострадавшего му...</td>\n      <td>1957</td>\n      <td>negative</td>\n    </tr>\n    <tr>\n      <th>2</th>\n      <td>Прошел почти год, как железнодорожным оператор...</td>\n      <td>1969</td>\n      <td>negative</td>\n    </tr>\n    <tr>\n      <th>3</th>\n      <td>По итогам 12 месяцев 2016 года на территории р...</td>\n      <td>1973</td>\n      <td>negative</td>\n    </tr>\n    <tr>\n      <th>4</th>\n      <td>Астана. 21 ноября. Kazakhstan Today - Агентств...</td>\n      <td>1975</td>\n      <td>negative</td>\n    </tr>\n  </tbody>\n</table>\n</div>"
     },
     "execution_count": 53,
     "metadata": {},
     "output_type": "execute_result"
    }
   ],
   "source": [
    "labeled_data = pd.read_json(os.path.join(parent_dir, \"datasets/labeled_train_data.json\"))\n",
    "labeled_data.head()"
   ],
   "metadata": {
    "collapsed": false,
    "pycharm": {
     "name": "#%%\n"
    }
   }
  },
  {
   "cell_type": "code",
   "execution_count": 55,
   "outputs": [
    {
     "data": {
      "text/plain": "(8263, 3)"
     },
     "execution_count": 55,
     "metadata": {},
     "output_type": "execute_result"
    }
   ],
   "source": [
    "labeled_data.shape"
   ],
   "metadata": {
    "collapsed": false,
    "pycharm": {
     "name": "#%%\n"
    }
   }
  },
  {
   "cell_type": "code",
   "execution_count": 59,
   "outputs": [],
   "source": [
    "cleaned_labeled_data = labeled_data[[\"text\", \"sentiment\"]]\n",
    "cleaned_labeled_data[\"text\"] = cleaned_labeled_data[\"text\"].apply(clean_data)"
   ],
   "metadata": {
    "collapsed": false,
    "pycharm": {
     "name": "#%%\n"
    }
   }
  },
  {
   "cell_type": "code",
   "execution_count": 63,
   "outputs": [],
   "source": [
    "classification_pipeline = Pipeline([\n",
    "            ('vect', CountVectorizer(ngram_range=(1,2), analyzer=\"word\")),\n",
    "            ('tfidf', TfidfTransformer(use_idf=True)),\n",
    "            ('model', LogisticRegression(solver=\"lbfgs\", multi_class=\"multinomial\")),\n",
    "        ])"
   ],
   "metadata": {
    "collapsed": false,
    "pycharm": {
     "name": "#%%\n"
    }
   }
  },
  {
   "cell_type": "code",
   "execution_count": 64,
   "outputs": [
    {
     "data": {
      "text/plain": "array(['negative', 'neutral', 'positive'], dtype=object)"
     },
     "execution_count": 64,
     "metadata": {},
     "output_type": "execute_result"
    }
   ],
   "source": [
    "le = LabelEncoder()\n",
    "le.fit(cleaned_labeled_data[\"sentiment\"])\n",
    "le.classes_"
   ],
   "metadata": {
    "collapsed": false,
    "pycharm": {
     "name": "#%%\n"
    }
   }
  },
  {
   "cell_type": "code",
   "execution_count": null,
   "outputs": [],
   "source": [
    "cleaned_labeled_data[\"sentiment\"] = le.transform(cleaned_labeled_data[\"sentiment\"])"
   ],
   "metadata": {
    "collapsed": false,
    "pycharm": {
     "name": "#%%\n",
     "is_executing": true
    }
   }
  },
  {
   "cell_type": "code",
   "execution_count": 69,
   "outputs": [
    {
     "data": {
      "text/plain": "0    0\n1    0\n2    0\n3    0\n4    0\nName: sentiment, dtype: int32"
     },
     "execution_count": 69,
     "metadata": {},
     "output_type": "execute_result"
    }
   ],
   "source": [
    "cleaned_labeled_data[\"sentiment\"].head()"
   ],
   "metadata": {
    "collapsed": false,
    "pycharm": {
     "name": "#%%\n"
    }
   }
  },
  {
   "cell_type": "code",
   "execution_count": 75,
   "outputs": [],
   "source": [
    "X = cleaned_labeled_data[\"text\"]\n",
    "y = cleaned_labeled_data[\"sentiment\"]"
   ],
   "metadata": {
    "collapsed": false,
    "pycharm": {
     "name": "#%%\n"
    }
   }
  },
  {
   "cell_type": "code",
   "execution_count": 70,
   "outputs": [],
   "source": [
    "X_train, X_test, y_train, y_test = train_test_split(X, y, test_size=0.5, random_state=0)"
   ],
   "metadata": {
    "collapsed": false,
    "pycharm": {
     "name": "#%%\n"
    }
   }
  },
  {
   "cell_type": "code",
   "execution_count": 71,
   "outputs": [
    {
     "data": {
      "text/plain": "Pipeline(steps=[('vect', CountVectorizer(ngram_range=(1, 2))),\n                ('tfidf', TfidfTransformer()),\n                ('model', LogisticRegression(multi_class='multinomial'))])"
     },
     "execution_count": 71,
     "metadata": {},
     "output_type": "execute_result"
    }
   ],
   "source": [
    "classification_pipeline.fit(X_train, y_train)"
   ],
   "metadata": {
    "collapsed": false,
    "pycharm": {
     "name": "#%%\n"
    }
   }
  },
  {
   "cell_type": "code",
   "execution_count": 72,
   "outputs": [
    {
     "data": {
      "text/plain": "0.6972410454985479"
     },
     "execution_count": 72,
     "metadata": {},
     "output_type": "execute_result"
    }
   ],
   "source": [
    "accuracy_score(y_test, classification_pipeline.predict(X_test))"
   ],
   "metadata": {
    "collapsed": false,
    "pycharm": {
     "name": "#%%\n"
    }
   }
  },
  {
   "cell_type": "code",
   "execution_count": 74,
   "outputs": [
    {
     "name": "stdout",
     "output_type": "stream",
     "text": [
      "              precision    recall  f1-score   support\n",
      "\n",
      "    negative    0.77525   0.43546   0.55767       705\n",
      "     neutral    0.66799   0.82759   0.73927      2030\n",
      "    positive    0.73219   0.63994   0.68296      1397\n",
      "\n",
      "    accuracy                        0.69724      4132\n",
      "   macro avg    0.72514   0.63433   0.65997      4132\n",
      "weighted avg    0.70800   0.69724   0.68925      4132\n",
      "\n"
     ]
    }
   ],
   "source": [
    "print(classification_report(y_test, classification_pipeline.predict(X_test), target_names=le.classes_, digits=5))"
   ],
   "metadata": {
    "collapsed": false,
    "pycharm": {
     "name": "#%%\n"
    }
   }
  },
  {
   "cell_type": "code",
   "execution_count": 76,
   "outputs": [
    {
     "data": {
      "text/plain": "Pipeline(steps=[('vect', CountVectorizer(ngram_range=(1, 2))),\n                ('tfidf', TfidfTransformer()),\n                ('model', LogisticRegression(multi_class='multinomial'))])"
     },
     "execution_count": 76,
     "metadata": {},
     "output_type": "execute_result"
    }
   ],
   "source": [
    "classification_pipeline.fit(X, y)"
   ],
   "metadata": {
    "collapsed": false,
    "pycharm": {
     "name": "#%%\n"
    }
   }
  },
  {
   "cell_type": "code",
   "execution_count": 78,
   "outputs": [],
   "source": [
    "classification_result = classification_pipeline.predict(clean_posts[\"text\"])"
   ],
   "metadata": {
    "collapsed": false,
    "pycharm": {
     "name": "#%%\n"
    }
   }
  },
  {
   "cell_type": "code",
   "execution_count": 79,
   "outputs": [],
   "source": [
    "logistic_regression_df = clean_posts[[\"id\"]]\n",
    "logistic_regression_df[\"emotion\"] = classification_result\n",
    "logistic_regression_df[\"emotion\"] = le.inverse_transform(logistic_regression_df[\"emotion\"])"
   ],
   "metadata": {
    "collapsed": false,
    "pycharm": {
     "name": "#%%\n"
    }
   }
  },
  {
   "cell_type": "code",
   "execution_count": 80,
   "outputs": [
    {
     "data": {
      "text/plain": "<AxesSubplot:xlabel='emotion', ylabel='count'>"
     },
     "execution_count": 80,
     "metadata": {},
     "output_type": "execute_result"
    },
    {
     "data": {
      "text/plain": "<Figure size 432x288 with 1 Axes>",
      "image/png": "[encoded data removed]"
     },
     "metadata": {
      "needs_background": "light"
     },
     "output_type": "display_data"
    }
   ],
   "source": [
    "sns.countplot(x=\"emotion\", data=logistic_regression_df)"
   ],
   "metadata": {
    "collapsed": false,
    "pycharm": {
     "name": "#%%\n"
    }
   }
  },
  {
   "cell_type": "code",
   "execution_count": 81,
   "outputs": [],
   "source": [
    "logistic_regression_df.to_csv(os.path.join(parent_dir, \"results/logistic_regression_results.csv\"), index=False)"
   ],
   "metadata": {
    "collapsed": false,
    "pycharm": {
     "name": "#%%\n"
    }
   }
  },
  {
   "cell_type": "code",
   "execution_count": null,
   "outputs": [],
   "source": [],
   "metadata": {
    "collapsed": false,
    "pycharm": {
     "name": "#%%\n"
    }
   }
  }
 ],
 "metadata": {
  "kernelspec": {
   "display_name": "Python 3",
   "language": "python",
   "name": "python3"
  },
  "language_info": {
   "codemirror_mode": {
    "name": "ipython",
    "version": 2
   },
   "file_extension": ".py",
   "mimetype": "text/x-python",
   "name": "python",
   "nbconvert_exporter": "python",
   "pygments_lexer": "ipython2",
   "version": "2.7.6"
  }
 },
 "nbformat": 4,
 "nbformat_minor": 0
}