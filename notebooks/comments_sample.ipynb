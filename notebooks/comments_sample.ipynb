{
 "cells": [
  {
   "cell_type": "code",
   "execution_count": 82,
   "metadata": {
    "collapsed": true
   },
   "outputs": [],
   "source": [
    "import os.path\n",
    "\n",
    "import requests\n",
    "import pandas as pd\n",
    "from tqdm import tqdm\n",
    "from typing import Any, Dict, List, Optional\n",
    "\n",
    "parent_dir = os.path.dirname(os.getcwd())"
   ]
  },
  {
   "cell_type": "code",
   "execution_count": 46,
   "outputs": [],
   "source": [
    "ACCESS_TOKEN = os.getenv(\"ACCESS_TOKEN\")\n",
    "GROUP_NAME = \"overhear\"\n",
    "VK_API_URL = \"https://api.vk.com/method/{method}\""
   ],
   "metadata": {
    "collapsed": false,
    "pycharm": {
     "name": "#%%\n"
    }
   }
  },
  {
   "cell_type": "code",
   "execution_count": 47,
   "outputs": [],
   "source": [
    "posts_df = pd.read_csv(os.path.join(parent_dir, \"datasets/posts.csv\"))"
   ],
   "metadata": {
    "collapsed": false,
    "pycharm": {
     "name": "#%%\n"
    }
   }
  },
  {
   "cell_type": "code",
   "execution_count": 48,
   "outputs": [
    {
     "data": {
      "text/plain": "        id                                               text  likes  reposts  \\\n0  1632037  Однажды делал своей девушке куни. В самый моме...     19       34   \n1  1632031  Живу с молодым человеком и его мамой (временна...    369       64   \n2  1632022  Всегда презирала проституток, порноактрис. А п...    167       47   \n3  1632004  Подруга полгода пролежала в коме после аварии,...    307      184   \n4  1631999  Когда вернулся из армии, моя бабушка умерла и ...    820        9   \n\n   views  \n0   5518  \n1  53145  \n2  27266  \n3  71438  \n4  97900  ",
      "text/html": "<div>\n<style scoped>\n    .dataframe tbody tr th:only-of-type {\n        vertical-align: middle;\n    }\n\n    .dataframe tbody tr th {\n        vertical-align: top;\n    }\n\n    .dataframe thead th {\n        text-align: right;\n    }\n</style>\n<table border=\"1\" class=\"dataframe\">\n  <thead>\n    <tr style=\"text-align: right;\">\n      <th></th>\n      <th>id</th>\n      <th>text</th>\n      <th>likes</th>\n      <th>reposts</th>\n      <th>views</th>\n    </tr>\n  </thead>\n  <tbody>\n    <tr>\n      <th>0</th>\n      <td>1632037</td>\n      <td>Однажды делал своей девушке куни. В самый моме...</td>\n      <td>19</td>\n      <td>34</td>\n      <td>5518</td>\n    </tr>\n    <tr>\n      <th>1</th>\n      <td>1632031</td>\n      <td>Живу с молодым человеком и его мамой (временна...</td>\n      <td>369</td>\n      <td>64</td>\n      <td>53145</td>\n    </tr>\n    <tr>\n      <th>2</th>\n      <td>1632022</td>\n      <td>Всегда презирала проституток, порноактрис. А п...</td>\n      <td>167</td>\n      <td>47</td>\n      <td>27266</td>\n    </tr>\n    <tr>\n      <th>3</th>\n      <td>1632004</td>\n      <td>Подруга полгода пролежала в коме после аварии,...</td>\n      <td>307</td>\n      <td>184</td>\n      <td>71438</td>\n    </tr>\n    <tr>\n      <th>4</th>\n      <td>1631999</td>\n      <td>Когда вернулся из армии, моя бабушка умерла и ...</td>\n      <td>820</td>\n      <td>9</td>\n      <td>97900</td>\n    </tr>\n  </tbody>\n</table>\n</div>"
     },
     "execution_count": 48,
     "metadata": {},
     "output_type": "execute_result"
    }
   ],
   "source": [
    "posts_df.head()"
   ],
   "metadata": {
    "collapsed": false,
    "pycharm": {
     "name": "#%%\n"
    }
   }
  },
  {
   "cell_type": "code",
   "execution_count": 49,
   "outputs": [],
   "source": [
    "posts_id = posts_df[\"id\"].to_list()"
   ],
   "metadata": {
    "collapsed": false,
    "pycharm": {
     "name": "#%%\n"
    }
   }
  },
  {
   "cell_type": "code",
   "execution_count": 92,
   "outputs": [],
   "source": [
    "group_info = requests.get(url=VK_API_URL.format(method=\"groups.getById\"),\n",
    "                          params={\n",
    "                              \"v\": 5.131,\n",
    "                              \"access_token\": ACCESS_TOKEN,\n",
    "                              \"group_ids\": GROUP_NAME,\n",
    "                              \"fields\": \"description\",\n",
    "                          })"
   ],
   "metadata": {
    "collapsed": false,
    "pycharm": {
     "name": "#%%\n"
    }
   }
  },
  {
   "cell_type": "code",
   "execution_count": 93,
   "outputs": [],
   "source": [
    "group_id = group_info.json()[\"response\"][0][\"id\"]"
   ],
   "metadata": {
    "collapsed": false,
    "pycharm": {
     "name": "#%%\n"
    }
   }
  },
  {
   "cell_type": "code",
   "execution_count": 94,
   "outputs": [],
   "source": [
    "info = requests.get(url=VK_API_URL.format(method=\"wall.getComments\"),\n",
    "                    params={\n",
    "                        \"v\": 5.131,\n",
    "                        \"access_token\": ACCESS_TOKEN,\n",
    "                        \"owner_id\": -group_id,\n",
    "                        \"post_id\": posts_id[0],\n",
    "                        \"count\": 100,\n",
    "                        \"offset\": 0,\n",
    "                        \"need_likes\": 1,\n",
    "                        \"extended\": 1,\n",
    "                    })"
   ],
   "metadata": {
    "collapsed": false,
    "pycharm": {
     "name": "#%%\n"
    }
   }
  },
  {
   "cell_type": "code",
   "execution_count": 95,
   "outputs": [
    {
     "data": {
      "text/plain": "{'response': {'count': 13,\n  'items': [{'id': 1632039,\n    'from_id': 44312227,\n    'date': 1649575903,\n    'text': 'Бывает😸',\n    'post_id': 1632037,\n    'owner_id': -34215577,\n    'parents_stack': [],\n    'donut': {'is_don': True},\n    'likes': {'can_like': 1, 'count': 1, 'user_likes': 0},\n    'thread': {'count': 0,\n     'items': [],\n     'can_post': False,\n     'show_reply_button': False}},\n   {'id': 1632040,\n    'from_id': 3187747,\n    'date': 1649575945,\n    'text': 'Какое запоминающееся событие.. Ну пукнула, значит полность доверяет вам, расслабилась.',\n    'post_id': 1632037,\n    'owner_id': -34215577,\n    'parents_stack': [],\n    'donut': {'is_don': True},\n    'likes': {'can_like': 1, 'count': 118, 'user_likes': 0},\n    'thread': {'count': 0,\n     'items': [],\n     'can_post': False,\n     'show_reply_button': False}},\n   {'id': 1632042,\n    'from_id': 41443339,\n    'date': 1649576057,\n    'text': \"Добро пожаловать в реальный мир.\\n\\nЭто вы ещё про существование 'выпуков' не в курсе.\",\n    'post_id': 1632037,\n    'owner_id': -34215577,\n    'parents_stack': [],\n    'donut': {'is_don': True},\n    'likes': {'can_like': 1, 'count': 212, 'user_likes': 0},\n    'thread': {'count': 2,\n     'items': [],\n     'can_post': False,\n     'show_reply_button': False}}],\n  'profiles': [{'id': 3187747,\n    'first_name': 'Сергей',\n    'last_name': 'Приходько',\n    'can_access_closed': False,\n    'is_closed': True,\n    'sex': 2,\n    'screen_name': 'prihodun',\n    'photo_50': 'https://sun7-8.userapi.com/s/v1/ig2/XtJBZ9BZr-dbmnBRLO2S-GxC55oXYb4E-tHCxFsZO_HTAX-DFInxMzi0xLr9k6wrWS8Irtt5TESSuaNFRpjofbGs.jpg?size=50x50&quality=95&crop=370,696,1532,1532&ava=1',\n    'photo_100': 'https://sun7-8.userapi.com/s/v1/ig2/NR0ZKORfd3a3ugNLCpU1otHBMty2plgYaXq3wNyXq4J5NX9tR7FDqgUsbLlserFPo6jYqtQMkhmOKxy0YKywHo9K.jpg?size=100x100&quality=95&crop=370,696,1532,1532&ava=1',\n    'online_info': {'visible': True,\n     'last_seen': 1649597494,\n     'is_online': False,\n     'is_mobile': True},\n    'online': 0},\n   {'id': 41443339,\n    'first_name': 'Анна',\n    'last_name': 'Пашкова',\n    'can_access_closed': True,\n    'is_closed': False,\n    'sex': 1,\n    'screen_name': 'krammushka',\n    'photo_50': 'https://sun7-7.userapi.com/s/v1/ig2/IBKCKU79wu1lk_KPEUW26kOaZNxET8DY2o00XtFOT4tiYky-A_mr6kIpqzX6lABVD3s4U4U2qNkaU_r4oYX1kXpF.jpg?size=50x50&quality=96&crop=0,0,1613,1613&ava=1',\n    'photo_100': 'https://sun7-7.userapi.com/s/v1/ig2/MMPsh8cFpr4hSSiYFY8B66Y5aVExOcbJ1QBt1Xnhj5w5FOEoa-55cF-UwH1vHgRWNn1NAmVXEnaO1o0v1r5mXdIc.jpg?size=100x100&quality=96&crop=0,0,1613,1613&ava=1',\n    'online_info': {'visible': True,\n     'last_seen': 1649597865,\n     'is_online': True,\n     'app_id': 2274003,\n     'is_mobile': True},\n    'online': 1,\n    'online_mobile': 1,\n    'online_app': 2274003},\n   {'id': 44312227,\n    'first_name': 'Елена',\n    'last_name': 'Князева',\n    'can_access_closed': False,\n    'is_closed': True,\n    'sex': 1,\n    'screen_name': 'alen_knyazeva',\n    'photo_50': 'https://sun7-6.userapi.com/s/v1/ig2/vrEkUkD7oUhM-UFJ0s-6rQE5SdSRT0K5JdE-oIdLWn9zkpEFdBz4LJe3vCjL69IN1T5ijQdvt72LUXYzaoFq0YVX.jpg?size=50x50&quality=95&crop=197,194,406,406&ava=1',\n    'photo_100': 'https://sun7-6.userapi.com/s/v1/ig2/0I9b7ZtO4jOC1O6MWmCRD_EjQt604z6adQ-zIorMvZtbzwzksNTU9x3JWhNDJLpp1ng4YHkK4pGJeXCtiDP_SlTY.jpg?size=100x100&quality=95&crop=197,194,406,406&ava=1',\n    'online_info': {'visible': True,\n     'last_seen': 1649596963,\n     'is_online': False,\n     'app_id': 2274003,\n     'is_mobile': True},\n    'online': 0}],\n  'groups': [],\n  'current_level_count': 3,\n  'can_post': False,\n  'show_reply_button': False}}"
     },
     "execution_count": 95,
     "metadata": {},
     "output_type": "execute_result"
    }
   ],
   "source": [
    "info.json()"
   ],
   "metadata": {
    "collapsed": false,
    "pycharm": {
     "name": "#%%\n"
    }
   }
  },
  {
   "cell_type": "code",
   "execution_count": 54,
   "outputs": [],
   "source": [
    "items = info.json()[\"response\"][\"items\"]\n",
    "item = items[0]\n",
    "profile_lists = info.json()[\"response\"][\"profiles\"]"
   ],
   "metadata": {
    "collapsed": false,
    "pycharm": {
     "name": "#%%\n"
    }
   }
  },
  {
   "cell_type": "code",
   "execution_count": 55,
   "outputs": [],
   "source": [
    "def get_user(profiles: List[Dict[str, Any]], user_id: int) -> Dict[str, Any]:\n",
    "    for profile in profiles:\n",
    "        if profile[\"id\"] == user_id:\n",
    "            return profile"
   ],
   "metadata": {
    "collapsed": false,
    "pycharm": {
     "name": "#%%\n"
    }
   }
  },
  {
   "cell_type": "code",
   "execution_count": 56,
   "outputs": [
    {
     "data": {
      "text/plain": "{'id': 44312227,\n 'first_name': 'Елена',\n 'last_name': 'Князева',\n 'can_access_closed': False,\n 'is_closed': True,\n 'sex': 1,\n 'screen_name': 'alen_knyazeva',\n 'photo_50': 'https://sun7-6.userapi.com/s/v1/ig2/vrEkUkD7oUhM-UFJ0s-6rQE5SdSRT0K5JdE-oIdLWn9zkpEFdBz4LJe3vCjL69IN1T5ijQdvt72LUXYzaoFq0YVX.jpg?size=50x50&quality=95&crop=197,194,406,406&ava=1',\n 'photo_100': 'https://sun7-6.userapi.com/s/v1/ig2/0I9b7ZtO4jOC1O6MWmCRD_EjQt604z6adQ-zIorMvZtbzwzksNTU9x3JWhNDJLpp1ng4YHkK4pGJeXCtiDP_SlTY.jpg?size=100x100&quality=95&crop=197,194,406,406&ava=1',\n 'online_info': {'visible': True,\n  'last_seen': 1649587795,\n  'is_online': True,\n  'app_id': 2274003,\n  'is_mobile': True},\n 'online': 1,\n 'online_mobile': 1,\n 'online_app': 2274003}"
     },
     "execution_count": 56,
     "metadata": {},
     "output_type": "execute_result"
    }
   ],
   "source": [
    "profile = get_user(profile_lists, item[\"from_id\"])\n",
    "profile"
   ],
   "metadata": {
    "collapsed": false,
    "pycharm": {
     "name": "#%%\n"
    }
   }
  },
  {
   "cell_type": "code",
   "execution_count": 57,
   "outputs": [],
   "source": [
    "def get_sex(sex_value: int) -> Optional[str]:\n",
    "    if sex_value == 1:\n",
    "        return \"w\"\n",
    "    if sex_value == 2:\n",
    "        return \"m\"\n",
    "    return None"
   ],
   "metadata": {
    "collapsed": false,
    "pycharm": {
     "name": "#%%\n"
    }
   }
  },
  {
   "cell_type": "code",
   "execution_count": 58,
   "outputs": [],
   "source": [
    "comment_sample_dict = {\n",
    "    \"id\": item[\"id\"],\n",
    "    \"post_id\": item[\"post_id\"],\n",
    "    \"text\": item[\"text\"],\n",
    "    \"likes\": item[\"likes\"][\"count\"],\n",
    "    \"user_id\": item[\"from_id\"],\n",
    "    \"user_first_name\": profile[\"first_name\"],\n",
    "    \"user_last_name\": profile[\"last_name\"],\n",
    "    \"user_sex\": get_sex(profile[\"sex\"]),\n",
    "}"
   ],
   "metadata": {
    "collapsed": false,
    "pycharm": {
     "name": "#%%\n"
    }
   }
  },
  {
   "cell_type": "code",
   "execution_count": 59,
   "outputs": [
    {
     "data": {
      "text/plain": "{'id': 1632039,\n 'post_id': 1632037,\n 'text': 'Бывает😸',\n 'likes': 1,\n 'user_id': 44312227,\n 'user_first_name': 'Елена',\n 'user_last_name': 'Князева',\n 'user_sex': 'w'}"
     },
     "execution_count": 59,
     "metadata": {},
     "output_type": "execute_result"
    }
   ],
   "source": [
    "comment_sample_dict"
   ],
   "metadata": {
    "collapsed": false,
    "pycharm": {
     "name": "#%%\n"
    }
   }
  },
  {
   "cell_type": "code",
   "execution_count": 60,
   "outputs": [],
   "source": [
    "comments = []"
   ],
   "metadata": {
    "collapsed": false,
    "pycharm": {
     "name": "#%%\n"
    }
   }
  },
  {
   "cell_type": "code",
   "execution_count": 84,
   "outputs": [
    {
     "name": "stderr",
     "output_type": "stream",
     "text": [
      " 54%|█████▍    | 47521/87994 [1:58:53<1:41:15,  6.66it/s] "
     ]
    },
    {
     "name": "stdout",
     "output_type": "stream",
     "text": [
      "CPU times: total: 11min 56s\n",
      "Wall time: 1h 58min 53s\n"
     ]
    },
    {
     "name": "stderr",
     "output_type": "stream",
     "text": [
      "\n"
     ]
    }
   ],
   "source": [
    "%%time\n",
    "for post_id in tqdm(posts_id):\n",
    "    response = requests.get(url=VK_API_URL.format(method=\"wall.getComments\"),\n",
    "                    params={\n",
    "                        \"v\": 5.131,\n",
    "                        \"access_token\": ACCESS_TOKEN,\n",
    "                        \"owner_id\": -group_id,\n",
    "                        \"post_id\": post_id,\n",
    "                        \"count\": 100,\n",
    "                        \"offset\": 0,\n",
    "                        \"need_likes\": 1,\n",
    "                        \"extended\": 1,\n",
    "                    })\n",
    "    if response.status_code != 200:\n",
    "        break\n",
    "    try:\n",
    "        items = response.json()[\"response\"][\"items\"]\n",
    "        profiles = info.json()[\"response\"][\"profiles\"]\n",
    "        for item in items:\n",
    "            profile = get_user(profiles, item[\"from_id\"])\n",
    "            comment_dict = {\n",
    "                \"id\": item[\"id\"],\n",
    "                \"post_id\": item[\"post_id\"],\n",
    "                \"text\": item[\"text\"],\n",
    "                \"likes\": item[\"likes\"][\"count\"],\n",
    "                \"user_id\": item[\"from_id\"],\n",
    "                \"user_first_name\": profile[\"first_name\"] if profile else None,\n",
    "                \"user_last_name\": profile[\"last_name\"] if profile else None,\n",
    "                \"user_sex\": get_sex(profile[\"sex\"]) if profile else None,\n",
    "                \"is_mobile\": profile[\"online_info\"][\"is_mobile\"] if profile else None\n",
    "            }\n",
    "            comments.append(comment_dict)\n",
    "    except KeyError:\n",
    "        continue"
   ],
   "metadata": {
    "collapsed": false,
    "pycharm": {
     "name": "#%%\n"
    }
   }
  },
  {
   "cell_type": "code",
   "execution_count": 85,
   "outputs": [
    {
     "data": {
      "text/plain": "[{'id': 1632039,\n  'post_id': 1632037,\n  'text': 'Бывает😸',\n  'likes': 1,\n  'user_id': 44312227,\n  'user_first_name': 'Елена',\n  'user_last_name': 'Князева',\n  'user_sex': 'w'},\n {'id': 1632040,\n  'post_id': 1632037,\n  'text': 'Какое запоминающееся событие.. Ну пукнула, значит полность доверяет вам, расслабилась.',\n  'likes': 102,\n  'user_id': 3187747,\n  'user_first_name': 'Сергей',\n  'user_last_name': 'Приходько',\n  'user_sex': 'm'},\n {'id': 1632042,\n  'post_id': 1632037,\n  'text': \"Добро пожаловать в реальный мир.\\n\\nЭто вы ещё про существование 'выпуков' не в курсе.\",\n  'likes': 171,\n  'user_id': 41443339,\n  'user_first_name': 'Анна',\n  'user_last_name': 'Пашкова',\n  'user_sex': 'w'},\n {'id': 1632035,\n  'post_id': 1632031,\n  'text': 'Ага, вертолёты, мама ж глупая😏',\n  'likes': 46,\n  'user_id': 290338758,\n  'user_first_name': None,\n  'user_last_name': None,\n  'user_sex': None},\n {'id': 1632036,\n  'post_id': 1632031,\n  'text': 'Это когда пукнул в детстве, а потом делаешь так губами, чтоб никто не понял.\\nНо все всё поняли, все и всё.',\n  'likes': 245,\n  'user_id': 525157090,\n  'user_first_name': None,\n  'user_last_name': None,\n  'user_sex': None},\n {'id': 1632044,\n  'post_id': 1632031,\n  'text': 'Вертолёт, унеси меня в полет',\n  'likes': 2,\n  'user_id': 625080296,\n  'user_first_name': None,\n  'user_last_name': None,\n  'user_sex': None},\n {'id': 1632025,\n  'post_id': 1632022,\n  'text': 'Боишься делать потому что много денег)',\n  'likes': 17,\n  'user_id': 164295337,\n  'user_first_name': None,\n  'user_last_name': None,\n  'user_sex': None},\n {'id': 1632028,\n  'post_id': 1632022,\n  'text': 'Я чаем с печенькой подавился на второй строке',\n  'likes': 242,\n  'user_id': 474300884,\n  'user_first_name': None,\n  'user_last_name': None,\n  'user_sex': None},\n {'id': 1632045,\n  'post_id': 1632022,\n  'text': 'Ну, да. Лизать мужские анусы страшнее, чем осуждать',\n  'likes': 24,\n  'user_id': 625080296,\n  'user_first_name': None,\n  'user_last_name': None,\n  'user_sex': None},\n {'id': 1632005,\n  'post_id': 1632004,\n  'text': 'С такими друзьями и врагов не надо 💩',\n  'likes': 1443,\n  'user_id': 703890007,\n  'user_first_name': None,\n  'user_last_name': None,\n  'user_sex': None}]"
     },
     "execution_count": 85,
     "metadata": {},
     "output_type": "execute_result"
    }
   ],
   "source": [
    "comments[0:10]"
   ],
   "metadata": {
    "collapsed": false,
    "pycharm": {
     "name": "#%%\n"
    }
   }
  },
  {
   "cell_type": "code",
   "execution_count": 87,
   "outputs": [],
   "source": [
    "comment_df = pd.DataFrame(data=comments)"
   ],
   "metadata": {
    "collapsed": false,
    "pycharm": {
     "name": "#%%\n"
    }
   }
  },
  {
   "cell_type": "code",
   "execution_count": 89,
   "outputs": [
    {
     "data": {
      "text/plain": "        id  post_id                                               text  likes  \\\n0  1632039  1632037                                            Бывает😸      1   \n1  1632040  1632037  Какое запоминающееся событие.. Ну пукнула, зна...    102   \n2  1632042  1632037  Добро пожаловать в реальный мир.\\n\\nЭто вы ещё...    171   \n3  1632035  1632031                     Ага, вертолёты, мама ж глупая😏     46   \n4  1632036  1632031  Это когда пукнул в детстве, а потом делаешь та...    245   \n\n     user_id user_first_name user_last_name user_sex is_mobile  \n0   44312227           Елена        Князева        w       NaN  \n1    3187747          Сергей      Приходько        m       NaN  \n2   41443339            Анна        Пашкова        w       NaN  \n3  290338758            None           None     None       NaN  \n4  525157090            None           None     None       NaN  ",
      "text/html": "<div>\n<style scoped>\n    .dataframe tbody tr th:only-of-type {\n        vertical-align: middle;\n    }\n\n    .dataframe tbody tr th {\n        vertical-align: top;\n    }\n\n    .dataframe thead th {\n        text-align: right;\n    }\n</style>\n<table border=\"1\" class=\"dataframe\">\n  <thead>\n    <tr style=\"text-align: right;\">\n      <th></th>\n      <th>id</th>\n      <th>post_id</th>\n      <th>text</th>\n      <th>likes</th>\n      <th>user_id</th>\n      <th>user_first_name</th>\n      <th>user_last_name</th>\n      <th>user_sex</th>\n      <th>is_mobile</th>\n    </tr>\n  </thead>\n  <tbody>\n    <tr>\n      <th>0</th>\n      <td>1632039</td>\n      <td>1632037</td>\n      <td>Бывает😸</td>\n      <td>1</td>\n      <td>44312227</td>\n      <td>Елена</td>\n      <td>Князева</td>\n      <td>w</td>\n      <td>NaN</td>\n    </tr>\n    <tr>\n      <th>1</th>\n      <td>1632040</td>\n      <td>1632037</td>\n      <td>Какое запоминающееся событие.. Ну пукнула, зна...</td>\n      <td>102</td>\n      <td>3187747</td>\n      <td>Сергей</td>\n      <td>Приходько</td>\n      <td>m</td>\n      <td>NaN</td>\n    </tr>\n    <tr>\n      <th>2</th>\n      <td>1632042</td>\n      <td>1632037</td>\n      <td>Добро пожаловать в реальный мир.\\n\\nЭто вы ещё...</td>\n      <td>171</td>\n      <td>41443339</td>\n      <td>Анна</td>\n      <td>Пашкова</td>\n      <td>w</td>\n      <td>NaN</td>\n    </tr>\n    <tr>\n      <th>3</th>\n      <td>1632035</td>\n      <td>1632031</td>\n      <td>Ага, вертолёты, мама ж глупая😏</td>\n      <td>46</td>\n      <td>290338758</td>\n      <td>None</td>\n      <td>None</td>\n      <td>None</td>\n      <td>NaN</td>\n    </tr>\n    <tr>\n      <th>4</th>\n      <td>1632036</td>\n      <td>1632031</td>\n      <td>Это когда пукнул в детстве, а потом делаешь та...</td>\n      <td>245</td>\n      <td>525157090</td>\n      <td>None</td>\n      <td>None</td>\n      <td>None</td>\n      <td>NaN</td>\n    </tr>\n  </tbody>\n</table>\n</div>"
     },
     "execution_count": 89,
     "metadata": {},
     "output_type": "execute_result"
    }
   ],
   "source": [
    "comment_df.head()"
   ],
   "metadata": {
    "collapsed": false,
    "pycharm": {
     "name": "#%%\n"
    }
   }
  },
  {
   "cell_type": "code",
   "execution_count": 91,
   "outputs": [],
   "source": [
    "comment_df.to_csv(os.path.join(parent_dir, \"datasets/comments.csv\"), index=False)"
   ],
   "metadata": {
    "collapsed": false,
    "pycharm": {
     "name": "#%%\n"
    }
   }
  },
  {
   "cell_type": "code",
   "execution_count": null,
   "outputs": [],
   "source": [],
   "metadata": {
    "collapsed": false,
    "pycharm": {
     "name": "#%%\n"
    }
   }
  }
 ],
 "metadata": {
  "kernelspec": {
   "display_name": "Python 3",
   "language": "python",
   "name": "python3"
  },
  "language_info": {
   "codemirror_mode": {
    "name": "ipython",
    "version": 2
   },
   "file_extension": ".py",
   "mimetype": "text/x-python",
   "name": "python",
   "nbconvert_exporter": "python",
   "pygments_lexer": "ipython2",
   "version": "2.7.6"
  }
 },
 "nbformat": 4,
 "nbformat_minor": 0
}