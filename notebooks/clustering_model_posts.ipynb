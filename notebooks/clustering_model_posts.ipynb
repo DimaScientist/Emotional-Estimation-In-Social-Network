{
 "cells": [
  {
   "cell_type": "code",
   "execution_count": 21,
   "metadata": {
    "collapsed": true
   },
   "outputs": [],
   "source": [
    "# !pip install spacy\n",
    "# !python -m spacy download ru_core_news_sm"
   ]
  },
  {
   "cell_type": "markdown",
   "source": [
    "# Кластеризация текста"
   ],
   "metadata": {
    "collapsed": false,
    "pycharm": {
     "name": "#%% md\n"
    }
   }
  },
  {
   "cell_type": "markdown",
   "source": [
    "## Загрузка данных"
   ],
   "metadata": {
    "collapsed": false,
    "pycharm": {
     "name": "#%% md\n"
    }
   }
  },
  {
   "cell_type": "code",
   "execution_count": 70,
   "outputs": [],
   "source": [
    "import pandas as pd\n",
    "import os.path\n",
    "\n",
    "from tqdm import tqdm\n",
    "\n",
    "parent_dir = os.path.dirname(os.getcwd())"
   ],
   "metadata": {
    "collapsed": false,
    "pycharm": {
     "name": "#%%\n"
    }
   }
  },
  {
   "cell_type": "code",
   "execution_count": 24,
   "outputs": [
    {
     "data": {
      "text/plain": "id                                                   1631877\ntext       С раннего детства я очень остро реагирую на ра...\nlikes                                                   1289\nreposts                                                   95\nviews                                                 125185\nName: 11, dtype: object"
     },
     "execution_count": 24,
     "metadata": {},
     "output_type": "execute_result"
    }
   ],
   "source": [
    "posts_df = pd.read_csv(os.path.join(parent_dir, \"datasets/posts.csv\"))\n",
    "posts_df.iloc[11]"
   ],
   "metadata": {
    "collapsed": false,
    "pycharm": {
     "name": "#%%\n"
    }
   }
  },
  {
   "cell_type": "code",
   "execution_count": 25,
   "outputs": [
    {
     "data": {
      "text/plain": "'С раннего детства я очень остро реагирую на распускание рук. Как пелена опускалась, дыхание перехватывало и я уже думала только о том, как отомстить. Поэтому бабушка быстро оставила попытки \"воспитания\" ремнем, когда я тем же ремнем со всей силы ударила ее спящую. Помню, как начала лупить линейкой учительницу в первом классе, которая нас била по рукам за исправления... Вообще считаю, что дети, которых в детстве били родители, имеют право избивать их беспомощных в старости.\\r\\n\\r\\n#Подслушано_жестокость@overhear'"
     },
     "execution_count": 25,
     "metadata": {},
     "output_type": "execute_result"
    }
   ],
   "source": [
    "posts_df.iloc[11][\"text\"]"
   ],
   "metadata": {
    "collapsed": false,
    "pycharm": {
     "name": "#%%\n"
    }
   }
  },
  {
   "cell_type": "code",
   "execution_count": 26,
   "outputs": [],
   "source": [
    "posts_df[\"tag\"] = posts_df[\"text\"].apply(lambda x: str(x).split(\"Подслушано\")[-1].replace(\"\\r\\n\\r\\n#\", \"\") if len(str(x).split(\"Подслушано\")) > 1 else None)\n",
    "posts_df[\"text\"] = posts_df[\"text\"].apply(lambda x: str(x).split(\"Подслушано\")[0])"
   ],
   "metadata": {
    "collapsed": false,
    "pycharm": {
     "name": "#%%\n"
    }
   }
  },
  {
   "cell_type": "code",
   "execution_count": 27,
   "outputs": [
    {
     "data": {
      "text/plain": "['Ничто не поднимает настроение лучше, чем тот факт, что моя бывшая через год после расставания уже успела в 21 год по залету выйти замуж и родить ребенка. Прям злодейски смеяться хочется от этого!\\r\\n\\r\\n#',\n 'С раннего детства я очень остро реагирую на распускание рук. Как пелена опускалась, дыхание перехватывало и я уже думала только о том, как отомстить. Поэтому бабушка быстро оставила попытки \"воспитания\" ремнем, когда я тем же ремнем со всей силы ударила ее спящую. Помню, как начала лупить линейкой учительницу в первом классе, которая нас била по рукам за исправления... Вообще считаю, что дети, которых в детстве били родители, имеют право избивать их беспомощных в старости.\\r\\n\\r\\n#',\n 'Ненавижу убираться, когда все дома. Тут же налетает вся семья и оказывается, что весь мусор — очень нужный мусор. Зато если выбросить, когда никто не видит, то даже не заметят!',\n 'Когда мне было 10, умерла бабушка. Она на тот момент лежала в больнице, поэтому печальную новость нам сообщили, позвонив рано утром домой. С тех пор безумно напрягают звонки по утрам. Постоянно охватывает страх, что что-то случилось.\\r\\n\\r\\n#',\n 'Родилась в православной семье. Сама же я атеистка. На 18-летие просила родителей, как подарок, оплатить мне дальнейшее обучение. Мы это обговаривали, и они были согласны. В день икс я получила крестик с какими-то дорогими камнями и на этом все.\\r\\n\\r\\n#']"
     },
     "execution_count": 27,
     "metadata": {},
     "output_type": "execute_result"
    }
   ],
   "source": [
    "posts_df.iloc[10:15][\"text\"].tolist()"
   ],
   "metadata": {
    "collapsed": false,
    "pycharm": {
     "name": "#%%\n"
    }
   }
  },
  {
   "cell_type": "code",
   "execution_count": 28,
   "outputs": [
    {
     "data": {
      "text/plain": "        id                                               text  likes  reposts  \\\n0  1632037  Однажды делал своей девушке куни. В самый моме...     19       34   \n1  1632031  Живу с молодым человеком и его мамой (временна...    369       64   \n2  1632022  Всегда презирала проституток, порноактрис. А п...    167       47   \n3  1632004  Подруга полгода пролежала в коме после аварии,...    307      184   \n4  1631999  Когда вернулся из армии, моя бабушка умерла и ...    820        9   \n\n   views     tag  \n0   5518  пошлое  \n1  53145  провал  \n2  27266    None  \n3  71438  пиздец  \n4  97900   успех  ",
      "text/html": "<div>\n<style scoped>\n    .dataframe tbody tr th:only-of-type {\n        vertical-align: middle;\n    }\n\n    .dataframe tbody tr th {\n        vertical-align: top;\n    }\n\n    .dataframe thead th {\n        text-align: right;\n    }\n</style>\n<table border=\"1\" class=\"dataframe\">\n  <thead>\n    <tr style=\"text-align: right;\">\n      <th></th>\n      <th>id</th>\n      <th>text</th>\n      <th>likes</th>\n      <th>reposts</th>\n      <th>views</th>\n      <th>tag</th>\n    </tr>\n  </thead>\n  <tbody>\n    <tr>\n      <th>0</th>\n      <td>1632037</td>\n      <td>Однажды делал своей девушке куни. В самый моме...</td>\n      <td>19</td>\n      <td>34</td>\n      <td>5518</td>\n      <td>пошлое</td>\n    </tr>\n    <tr>\n      <th>1</th>\n      <td>1632031</td>\n      <td>Живу с молодым человеком и его мамой (временна...</td>\n      <td>369</td>\n      <td>64</td>\n      <td>53145</td>\n      <td>провал</td>\n    </tr>\n    <tr>\n      <th>2</th>\n      <td>1632022</td>\n      <td>Всегда презирала проституток, порноактрис. А п...</td>\n      <td>167</td>\n      <td>47</td>\n      <td>27266</td>\n      <td>None</td>\n    </tr>\n    <tr>\n      <th>3</th>\n      <td>1632004</td>\n      <td>Подруга полгода пролежала в коме после аварии,...</td>\n      <td>307</td>\n      <td>184</td>\n      <td>71438</td>\n      <td>пиздец</td>\n    </tr>\n    <tr>\n      <th>4</th>\n      <td>1631999</td>\n      <td>Когда вернулся из армии, моя бабушка умерла и ...</td>\n      <td>820</td>\n      <td>9</td>\n      <td>97900</td>\n      <td>успех</td>\n    </tr>\n  </tbody>\n</table>\n</div>"
     },
     "execution_count": 28,
     "metadata": {},
     "output_type": "execute_result"
    }
   ],
   "source": [
    "posts_df[\"tag\"] = posts_df[\"tag\"].apply(lambda x: str(x).replace(\"@overhear\", \"\").replace(\"\\r\", \"\").replace(\"\\n\", \" \").replace(\"_\", \"\"))\n",
    "posts_df[\"text\"] = posts_df[\"text\"].apply(lambda x: str(x).replace(\"\\r\", \"\").replace(\"\\n\", \" \").replace(\"\\t\", \" \"))\n",
    "posts_df.head()"
   ],
   "metadata": {
    "collapsed": false,
    "pycharm": {
     "name": "#%%\n"
    }
   }
  },
  {
   "cell_type": "code",
   "execution_count": 29,
   "outputs": [
    {
     "data": {
      "text/plain": "id         87994\ntext       87117\nlikes      20461\nreposts     1378\nviews      78203\ntag          202\ndtype: int64"
     },
     "execution_count": 29,
     "metadata": {},
     "output_type": "execute_result"
    }
   ],
   "source": [
    "posts_df.nunique()"
   ],
   "metadata": {
    "collapsed": false,
    "pycharm": {
     "name": "#%%\n"
    }
   }
  },
  {
   "cell_type": "code",
   "source": [
    "document = \" \".join(posts_df[\"text\"].to_list())"
   ],
   "metadata": {
    "collapsed": false,
    "pycharm": {
     "name": "#%%\n"
    }
   },
   "execution_count": 31,
   "outputs": []
  },
  {
   "cell_type": "code",
   "execution_count": 32,
   "outputs": [
    {
     "data": {
      "text/plain": "'на 2 года старше. Отношения у нас продолжались до моих 17 лет. Налево бегала от него, дурочка. Такой взрослой '"
     },
     "execution_count": 32,
     "metadata": {},
     "output_type": "execute_result"
    }
   ],
   "source": [
    "document[8990:9100]"
   ],
   "metadata": {
    "collapsed": false,
    "pycharm": {
     "name": "#%%\n"
    }
   }
  },
  {
   "cell_type": "markdown",
   "source": [
    "## Очистка данных"
   ],
   "metadata": {
    "collapsed": false,
    "pycharm": {
     "name": "#%% md\n"
    }
   }
  },
  {
   "cell_type": "code",
   "execution_count": 57,
   "outputs": [],
   "source": [
    "import string\n",
    "\n",
    "def clean_data(text: str) -> str:\n",
    "    \"\"\"Очистка данных.\"\"\"\n",
    "    _text = text.translate(str.maketrans('', '', string.punctuation)) # убираем знаки пунктуации\n",
    "    _text = _text.translate(str.maketrans('', '', string.digits)) # убираем числа\n",
    "    _text = _text.lower()\n",
    "    return _text"
   ],
   "metadata": {
    "collapsed": false,
    "pycharm": {
     "name": "#%%\n"
    }
   }
  },
  {
   "cell_type": "code",
   "execution_count": 58,
   "outputs": [],
   "source": [
    "clear_document = clean_data(document)"
   ],
   "metadata": {
    "collapsed": false,
    "pycharm": {
     "name": "#%%\n"
    }
   }
  },
  {
   "cell_type": "code",
   "execution_count": 59,
   "outputs": [
    {
     "data": {
      "text/plain": "'кой дочкой помогла её мужу в быту оставалась ночевать когда у малышки резались зубки а я влюблена в '"
     },
     "execution_count": 59,
     "metadata": {},
     "output_type": "execute_result"
    }
   ],
   "source": [
    "clear_document[1400:1500]"
   ],
   "metadata": {
    "collapsed": false,
    "pycharm": {
     "name": "#%%\n"
    }
   }
  },
  {
   "cell_type": "markdown",
   "source": [
    "## Анализ данных"
   ],
   "metadata": {
    "collapsed": false,
    "pycharm": {
     "name": "#%% md\n"
    }
   }
  },
  {
   "cell_type": "code",
   "execution_count": 54,
   "outputs": [],
   "source": [
    "import spacy\n",
    "\n",
    "nlp = spacy.load(\"ru_core_news_sm\")"
   ],
   "metadata": {
    "collapsed": false,
    "pycharm": {
     "name": "#%%\n"
    }
   }
  },
  {
   "cell_type": "code",
   "execution_count": 115,
   "outputs": [
    {
     "name": "stdout",
     "output_type": "stream",
     "text": [
      "оцессе NOUN\n",
      "теперь ADV\n",
      "эта DET\n",
      "картина NOUN\n",
      "никак ADV\n",
      "не PART\n",
      "выходит VERB\n",
      "из ADP\n",
      "моей DET\n",
      "головы NOUN\n",
      "как SCONJ\n",
      "и PART\n",
      "запах NOUN\n",
      "   SPACE\n",
      "живу VERB\n",
      "с ADP\n",
      "молодым ADJ\n",
      "человеком NOUN\n",
      "и CCONJ\n",
      "е PROPN\n"
     ]
    }
   ],
   "source": [
    "for w in nlp(clear_document[100:200]):\n",
    "    print(w.text, w.pos_)"
   ],
   "metadata": {
    "collapsed": false,
    "pycharm": {
     "name": "#%%\n"
    }
   }
  },
  {
   "cell_type": "code",
   "execution_count": 63,
   "outputs": [
    {
     "data": {
      "text/plain": "36.502409"
     },
     "execution_count": 63,
     "metadata": {},
     "output_type": "execute_result"
    }
   ],
   "source": [
    "len(clear_document) / nlp.max_length"
   ],
   "metadata": {
    "collapsed": false,
    "pycharm": {
     "name": "#%%\n"
    }
   }
  },
  {
   "cell_type": "markdown",
   "source": [
    "Будем разбивать наш текст для обработки на 37 частей"
   ],
   "metadata": {
    "collapsed": false,
    "pycharm": {
     "name": "#%% md\n"
    }
   }
  },
  {
   "cell_type": "code",
   "execution_count": 64,
   "outputs": [],
   "source": [
    "document_chunk = [clear_document[i:i+nlp.max_length] for i in range (0,len(clear_document), nlp.max_length)]"
   ],
   "metadata": {
    "collapsed": false,
    "pycharm": {
     "name": "#%%\n"
    }
   }
  },
  {
   "cell_type": "code",
   "execution_count": 68,
   "outputs": [
    {
     "data": {
      "text/plain": "1000000"
     },
     "execution_count": 68,
     "metadata": {},
     "output_type": "execute_result"
    }
   ],
   "source": [
    "len(document_chunk[0])"
   ],
   "metadata": {
    "collapsed": false,
    "pycharm": {
     "name": "#%%\n"
    }
   }
  },
  {
   "cell_type": "markdown",
   "source": [
    "Проанализируем каждый чанк"
   ],
   "metadata": {
    "collapsed": false,
    "pycharm": {
     "name": "#%% md\n"
    }
   }
  },
  {
   "cell_type": "code",
   "execution_count": 74,
   "outputs": [
    {
     "name": "stderr",
     "output_type": "stream",
     "text": [
      "100%|██████████| 37/37 [42:53<00:00, 69.56s/it]\n"
     ]
    }
   ],
   "source": [
    "docs = []\n",
    "for doc_chunk in tqdm(document_chunk):\n",
    "    doc = nlp(doc_chunk)\n",
    "    docs.append(doc)"
   ],
   "metadata": {
    "collapsed": false,
    "pycharm": {
     "name": "#%%\n"
    }
   }
  },
  {
   "cell_type": "markdown",
   "source": [
    "Теперь из текстового документа можно найти существительные и глаголы.\n",
    "\n",
    "Среди существительных выделить персон и организации."
   ],
   "metadata": {
    "collapsed": false,
    "pycharm": {
     "name": "#%% md\n"
    }
   }
  },
  {
   "cell_type": "code",
   "execution_count": 116,
   "outputs": [],
   "source": [
    "words = []\n",
    "nouns = []\n",
    "verbs = []\n",
    "people = []\n",
    "orgs = []"
   ],
   "metadata": {
    "collapsed": false,
    "pycharm": {
     "name": "#%%\n"
    }
   }
  },
  {
   "cell_type": "code",
   "execution_count": 117,
   "outputs": [
    {
     "name": "stderr",
     "output_type": "stream",
     "text": [
      "100%|██████████| 37/37 [00:10<00:00,  3.47it/s]\n"
     ]
    }
   ],
   "source": [
    "for doc in tqdm(docs):\n",
    "    for token in doc:\n",
    "        if token.pos_ != 'SPACE' and token.pos_ != 'PUNCT':\n",
    "            words.append(token.text)\n",
    "        if token.pos_ == \"VERB\":\n",
    "            verbs.append(token.text)\n",
    "\n",
    "        if token.pos_ == \"NOUN\":\n",
    "            nouns.append(token.text)"
   ],
   "metadata": {
    "collapsed": false,
    "pycharm": {
     "name": "#%%\n"
    }
   }
  },
  {
   "cell_type": "code",
   "execution_count": 118,
   "outputs": [
    {
     "name": "stderr",
     "output_type": "stream",
     "text": [
      "100%|██████████| 37/37 [00:00<00:00, 106.63it/s]\n"
     ]
    }
   ],
   "source": [
    "for doc in tqdm(docs):\n",
    "    for ent in doc.ents:\n",
    "        if ent.label_ == \"ORG\":\n",
    "            orgs.append(ent.text)\n",
    "        if ent.label_ == \"PERSON\":\n",
    "            people.append(ent.text)"
   ],
   "metadata": {
    "collapsed": false,
    "pycharm": {
     "name": "#%%\n"
    }
   }
  },
  {
   "cell_type": "code",
   "execution_count": 119,
   "outputs": [
    {
     "name": "stdout",
     "output_type": "stream",
     "text": [
      "Всего слов:  6087078\n",
      "Всего глаголов:  1140503\n",
      "Всего существительных:  1503712\n",
      "Всего людей:  0\n",
      "Всего организаций:  2402\n"
     ]
    }
   ],
   "source": [
    "print(\"Всего слов: \", len(words))\n",
    "print(\"Всего глаголов: \", len(verbs))\n",
    "print(\"Всего существительных: \", len(nouns))\n",
    "print(\"Всего людей: \", len(people))\n",
    "print(\"Всего организаций: \", len(orgs))"
   ],
   "metadata": {
    "collapsed": false,
    "pycharm": {
     "name": "#%%\n"
    }
   }
  },
  {
   "cell_type": "code",
   "execution_count": 86,
   "outputs": [
    {
     "name": "stdout",
     "output_type": "stream",
     "text": [
      "Пример слова:  жужжащим\n",
      "Пример глагола:  закрытые\n",
      "Пример существительного:  недельку\n",
      "Пример организации:  домодедово\n"
     ]
    }
   ],
   "source": [
    "print(\"Пример слова: \", words[100])\n",
    "print(\"Пример глагола: \", verbs[20])\n",
    "print(\"Пример существительного: \", nouns[10])\n",
    "print(\"Пример организации: \", orgs[0])"
   ],
   "metadata": {
    "collapsed": false,
    "pycharm": {
     "name": "#%%\n"
    }
   }
  },
  {
   "cell_type": "markdown",
   "source": [
    "Определим частоту слов"
   ],
   "metadata": {
    "collapsed": false,
    "pycharm": {
     "name": "#%% md\n"
    }
   }
  },
  {
   "cell_type": "code",
   "execution_count": 120,
   "outputs": [],
   "source": [
    "from collections import Counter\n",
    "from collections import OrderedDict\n",
    "\n",
    "def sort_by_frequency(data,reverse = True):\n",
    "    \"\"\"Сортировка данных по их частоте\"\"\"\n",
    "    data_with_freq = dict(Counter(data))\n",
    "    data_sorted_by_freq = OrderedDict(sorted(data_with_freq.items(), key=lambda x: x[1],reverse=reverse))\n",
    "\n",
    "    return data_sorted_by_freq"
   ],
   "metadata": {
    "collapsed": false,
    "pycharm": {
     "name": "#%%\n"
    }
   }
  },
  {
   "cell_type": "code",
   "execution_count": 121,
   "outputs": [],
   "source": [
    "words_freq = sort_by_frequency(words)\n",
    "nouns_freq = sort_by_frequency(nouns)\n",
    "verbs_freq = sort_by_frequency(verbs)\n",
    "people_freq = sort_by_frequency(people)\n",
    "orgs_freq = sort_by_frequency(orgs)"
   ],
   "metadata": {
    "collapsed": false,
    "pycharm": {
     "name": "#%%\n"
    }
   }
  },
  {
   "cell_type": "markdown",
   "source": [
    "Рассмотрим наиболее частые слова"
   ],
   "metadata": {
    "collapsed": false,
    "pycharm": {
     "name": "#%% md\n"
    }
   }
  },
  {
   "cell_type": "code",
   "execution_count": 122,
   "outputs": [
    {
     "data": {
      "text/plain": "['и', 'в', 'не', 'я', 'на', 'что', 'с', 'а', 'меня', 'у']"
     },
     "execution_count": 122,
     "metadata": {},
     "output_type": "execute_result"
    }
   ],
   "source": [
    "list(words_freq)[0:10]"
   ],
   "metadata": {
    "collapsed": false,
    "pycharm": {
     "name": "#%%\n"
    }
   }
  },
  {
   "cell_type": "markdown",
   "source": [
    "Как можно наблюдать, наиболее частые слова - это предлоги, союзы, местоимения."
   ],
   "metadata": {
    "collapsed": false,
    "pycharm": {
     "name": "#%% md\n"
    }
   }
  },
  {
   "cell_type": "markdown",
   "source": [
    "Рассмотрим наиболее частые существительные"
   ],
   "metadata": {
    "collapsed": false,
    "pycharm": {
     "name": "#%% md\n"
    }
   }
  },
  {
   "cell_type": "code",
   "execution_count": 123,
   "outputs": [
    {
     "data": {
      "text/plain": "['лет', 'раз', 'мама', 'день', 'время', 'муж', 'года', 'пор', 'жизни', 'жизнь']"
     },
     "execution_count": 123,
     "metadata": {},
     "output_type": "execute_result"
    }
   ],
   "source": [
    "list(nouns_freq)[0:10]"
   ],
   "metadata": {
    "collapsed": false,
    "pycharm": {
     "name": "#%%\n"
    }
   }
  },
  {
   "cell_type": "markdown",
   "source": [
    "Рассмотрим наиболее частые глаголы"
   ],
   "metadata": {
    "collapsed": false,
    "pycharm": {
     "name": "#%% md\n"
    }
   }
  },
  {
   "cell_type": "code",
   "execution_count": 124,
   "outputs": [
    {
     "data": {
      "text/plain": "['нет',\n 'есть',\n 'могу',\n 'говорит',\n 'знаю',\n 'хочу',\n 'может',\n 'люблю',\n 'сказала',\n 'решила']"
     },
     "execution_count": 124,
     "metadata": {},
     "output_type": "execute_result"
    }
   ],
   "source": [
    "list(verbs_freq)[0:10]"
   ],
   "metadata": {
    "collapsed": false,
    "pycharm": {
     "name": "#%%\n"
    }
   }
  },
  {
   "cell_type": "markdown",
   "source": [
    "Рассмотрим наиболее частых персон"
   ],
   "metadata": {
    "collapsed": false,
    "pycharm": {
     "name": "#%% md\n"
    }
   }
  },
  {
   "cell_type": "code",
   "execution_count": 125,
   "outputs": [
    {
     "data": {
      "text/plain": "[]"
     },
     "execution_count": 125,
     "metadata": {},
     "output_type": "execute_result"
    }
   ],
   "source": [
    "list(people_freq)[0:10]"
   ],
   "metadata": {
    "collapsed": false,
    "pycharm": {
     "name": "#%%\n"
    }
   }
  },
  {
   "cell_type": "markdown",
   "source": [
    "Рассмотрим наиболее частые организации"
   ],
   "metadata": {
    "collapsed": false,
    "pycharm": {
     "name": "#%% md\n"
    }
   }
  },
  {
   "cell_type": "code",
   "execution_count": 126,
   "outputs": [
    {
     "data": {
      "text/plain": "['ждём', 'сны', 'тц', 'мчс', 'тв', 'вконтакте', 'тд', 'гаи', 'telegram', 'чём']"
     },
     "execution_count": 126,
     "metadata": {},
     "output_type": "execute_result"
    }
   ],
   "source": [
    "list(orgs_freq)[0:10]"
   ],
   "metadata": {
    "collapsed": false,
    "pycharm": {
     "name": "#%%\n"
    }
   }
  },
  {
   "cell_type": "markdown",
   "source": [
    "## Анализ N-грамм"
   ],
   "metadata": {
    "collapsed": false,
    "pycharm": {
     "name": "#%% md\n"
    }
   }
  },
  {
   "cell_type": "code",
   "execution_count": 102,
   "outputs": [
    {
     "name": "stdout",
     "output_type": "stream",
     "text": [
      "Collecting nltk\n",
      "  Using cached nltk-3.7-py3-none-any.whl (1.5 MB)\n",
      "Collecting regex>=2021.8.3\n",
      "  Using cached regex-2022.3.15-cp39-cp39-win_amd64.whl (274 kB)\n",
      "Requirement already satisfied: click in c:\\users\\dmitry\\appdata\\local\\programs\\python\\python39\\lib\\site-packages (from nltk) (8.0.4)\n",
      "Collecting joblib\n",
      "  Using cached joblib-1.1.0-py2.py3-none-any.whl (306 kB)\n",
      "Requirement already satisfied: tqdm in c:\\users\\dmitry\\appdata\\local\\programs\\python\\python39\\lib\\site-packages (from nltk) (4.64.0)\n",
      "Requirement already satisfied: colorama in c:\\users\\dmitry\\appdata\\local\\programs\\python\\python39\\lib\\site-packages (from click->nltk) (0.4.4)\n",
      "Installing collected packages: regex, joblib, nltk\n",
      "Successfully installed joblib-1.1.0 nltk-3.7 regex-2022.3.15\n"
     ]
    }
   ],
   "source": [
    "# !pip install nltk"
   ],
   "metadata": {
    "collapsed": false,
    "pycharm": {
     "name": "#%%\n"
    }
   }
  },
  {
   "cell_type": "code",
   "execution_count": 127,
   "outputs": [],
   "source": [
    "import nltk\n",
    "\n",
    "def create_bigram(tokens: list) -> list:\n",
    "    \"\"\"Создание биграмм на основе токенов.\"\"\"\n",
    "    _bigrams = nltk.bigrams(tokens)\n",
    "    return list(_bigrams)"
   ],
   "metadata": {
    "collapsed": false,
    "pycharm": {
     "name": "#%%\n"
    }
   }
  },
  {
   "cell_type": "code",
   "execution_count": 128,
   "outputs": [],
   "source": [
    "bigrams_list = create_bigram(words)\n",
    "bigrams = [\" \".join(bigram) for bigram in list(bigrams_list)]"
   ],
   "metadata": {
    "collapsed": false,
    "pycharm": {
     "name": "#%%\n"
    }
   }
  },
  {
   "cell_type": "code",
   "execution_count": 129,
   "outputs": [
    {
     "data": {
      "text/plain": "['одеялом смотрю',\n 'смотрю на',\n 'на неё',\n 'неё она',\n 'она на',\n 'на меня',\n 'меня а',\n 'а у',\n 'у нас',\n 'нас оказывается']"
     },
     "execution_count": 129,
     "metadata": {},
     "output_type": "execute_result"
    }
   ],
   "source": [
    "bigrams[100:110]"
   ],
   "metadata": {
    "collapsed": false,
    "pycharm": {
     "name": "#%%\n"
    }
   }
  },
  {
   "cell_type": "markdown",
   "source": [
    "Сортировка биграмм по частоте встречи"
   ],
   "metadata": {
    "collapsed": false,
    "pycharm": {
     "name": "#%% md\n"
    }
   }
  },
  {
   "cell_type": "code",
   "execution_count": 130,
   "outputs": [],
   "source": [
    "bigram_frequency = sort_by_frequency(bigrams)"
   ],
   "metadata": {
    "collapsed": false,
    "pycharm": {
     "name": "#%%\n"
    }
   }
  },
  {
   "cell_type": "markdown",
   "source": [
    "Мы можем наблюдать частоту встречи биграмм"
   ],
   "metadata": {
    "collapsed": false,
    "pycharm": {
     "name": "#%% md\n"
    }
   }
  },
  {
   "cell_type": "code",
   "execution_count": 131,
   "outputs": [],
   "source": [
    "def get_top_n_from_order_dict(ordered_dict: OrderedDict,n: int) -> list:\n",
    "    \"\"\"Нахождение первых n-элементов из order dict.\"\"\"\n",
    "    return [list(ordered_dict.items())[i] for i in range(n)]"
   ],
   "metadata": {
    "collapsed": false,
    "pycharm": {
     "name": "#%%\n"
    }
   }
  },
  {
   "cell_type": "code",
   "execution_count": 132,
   "outputs": [],
   "source": [
    "top_bigram = get_top_n_from_order_dict(bigram_frequency,25)"
   ],
   "metadata": {
    "collapsed": false,
    "pycharm": {
     "name": "#%%\n"
    }
   }
  },
  {
   "cell_type": "code",
   "execution_count": 133,
   "outputs": [
    {
     "data": {
      "text/plain": "[('у меня', 17191),\n ('что я', 9383),\n ('я не', 8864),\n ('и не', 8658),\n ('а я', 7523),\n ('потому что', 6931),\n ('и я', 6872),\n ('у нас', 5846),\n ('не могу', 5222),\n ('не было', 4923),\n ('когда я', 4711),\n ('что это', 4577),\n ('так как', 4518),\n ('до сих', 4493),\n ('сих пор', 4448),\n ('никогда не', 4257),\n ('в детстве', 4154),\n ('что он', 4131),\n ('а потом', 4007),\n ('у него', 3905),\n ('и вот', 3898),\n ('с ним', 3848),\n ('и в', 3787),\n ('так и', 3745),\n ('ничего не', 3698)]"
     },
     "execution_count": 133,
     "metadata": {},
     "output_type": "execute_result"
    }
   ],
   "source": [
    "top_bigram"
   ],
   "metadata": {
    "collapsed": false,
    "pycharm": {
     "name": "#%%\n"
    }
   }
  },
  {
   "cell_type": "code",
   "execution_count": 134,
   "outputs": [
    {
     "name": "stdout",
     "output_type": "stream",
     "text": [
      "Collecting matplotlib\n",
      "  Using cached matplotlib-3.5.1-cp39-cp39-win_amd64.whl (7.2 MB)\n",
      "Collecting pillow>=6.2.0\n",
      "  Using cached Pillow-9.1.0-cp39-cp39-win_amd64.whl (3.3 MB)\n",
      "Collecting kiwisolver>=1.0.1\n",
      "  Using cached kiwisolver-1.4.2-cp39-cp39-win_amd64.whl (55 kB)\n",
      "Collecting cycler>=0.10\n",
      "  Using cached cycler-0.11.0-py3-none-any.whl (6.4 kB)\n",
      "Collecting fonttools>=4.22.0\n",
      "  Downloading fonttools-4.32.0-py3-none-any.whl (900 kB)\n",
      "     -------------------------------------- 900.8/900.8 KB 2.7 MB/s eta 0:00:00\n",
      "Requirement already satisfied: packaging>=20.0 in c:\\users\\dmitry\\appdata\\local\\programs\\python\\python39\\lib\\site-packages (from matplotlib) (21.3)\n",
      "Requirement already satisfied: python-dateutil>=2.7 in c:\\users\\dmitry\\appdata\\local\\programs\\python\\python39\\lib\\site-packages (from matplotlib) (2.8.2)\n",
      "Requirement already satisfied: numpy>=1.17 in c:\\users\\dmitry\\appdata\\local\\programs\\python\\python39\\lib\\site-packages (from matplotlib) (1.22.3)\n",
      "Requirement already satisfied: pyparsing>=2.2.1 in c:\\users\\dmitry\\appdata\\local\\programs\\python\\python39\\lib\\site-packages (from matplotlib) (3.0.8)\n",
      "Requirement already satisfied: six>=1.5 in c:\\users\\dmitry\\appdata\\local\\programs\\python\\python39\\lib\\site-packages (from python-dateutil>=2.7->matplotlib) (1.16.0)\n",
      "Installing collected packages: pillow, kiwisolver, fonttools, cycler, matplotlib\n",
      "Successfully installed cycler-0.11.0 fonttools-4.32.0 kiwisolver-1.4.2 matplotlib-3.5.1 pillow-9.1.0\n"
     ]
    }
   ],
   "source": [
    "!pip install matplotlib"
   ],
   "metadata": {
    "collapsed": false,
    "pycharm": {
     "name": "#%%\n"
    }
   }
  },
  {
   "cell_type": "code",
   "execution_count": 135,
   "outputs": [],
   "source": [
    "import numpy as np\n",
    "import matplotlib.pyplot as plt"
   ],
   "metadata": {
    "collapsed": false,
    "pycharm": {
     "name": "#%%\n"
    }
   }
  },
  {
   "cell_type": "code",
   "execution_count": 154,
   "outputs": [],
   "source": [
    "def visualize_list_of_tuple(data):\n",
    "    \"\"\"Визуализация списка кортежей.\"\"\"\n",
    "    list1, list2 = zip(*data)\n",
    "    y_pos = np.arange(len(list1))\n",
    "    plt.barh(y_pos, list2, align='center', alpha=0.5)\n",
    "    plt.yticks(y_pos, list1)\n",
    "    plt.show()"
   ],
   "metadata": {
    "collapsed": false,
    "pycharm": {
     "name": "#%%\n"
    }
   }
  },
  {
   "cell_type": "code",
   "execution_count": 155,
   "outputs": [
    {
     "data": {
      "text/plain": "<Figure size 432x288 with 1 Axes>",
      "image/png": "[encoded data removed]"
     },
     "metadata": {
      "needs_background": "light"
     },
     "output_type": "display_data"
    }
   ],
   "source": [
    "visualize_list_of_tuple(top_bigram)"
   ],
   "metadata": {
    "collapsed": false,
    "pycharm": {
     "name": "#%%\n"
    }
   }
  },
  {
   "cell_type": "markdown",
   "source": [
    "Поиск уникальных существительных, глаголов, персон и организаций"
   ],
   "metadata": {
    "collapsed": false,
    "pycharm": {
     "name": "#%% md\n"
    }
   }
  },
  {
   "cell_type": "code",
   "execution_count": 156,
   "outputs": [],
   "source": [
    "unique_nouns = set(nouns)\n",
    "unique_verbs = set(verbs)\n",
    "unique_people = set(people)\n",
    "unique_orgs = set(orgs)"
   ],
   "metadata": {
    "collapsed": false,
    "pycharm": {
     "name": "#%%\n"
    }
   }
  },
  {
   "cell_type": "markdown",
   "source": [
    "Создадим биграммы с двумя существительными"
   ],
   "metadata": {
    "collapsed": false,
    "pycharm": {
     "name": "#%% md\n"
    }
   }
  },
  {
   "cell_type": "code",
   "execution_count": 161,
   "outputs": [],
   "source": [
    "def get_noun_noun_bigram(bigrams):\n",
    "    \"\"\"Поиск биграмм с двумя существительными.\"\"\"\n",
    "    NN_bigrams = []\n",
    "    for first_word,second_word in bigrams:\n",
    "        if first_word in unique_nouns and second_word in unique_nouns:\n",
    "            NN_bigrams.append(\" \".join((first_word,second_word)))\n",
    "    return NN_bigrams\n",
    "NN_bigrams = get_noun_noun_bigram(bigrams_list)"
   ],
   "metadata": {
    "collapsed": false,
    "pycharm": {
     "name": "#%%\n"
    }
   }
  },
  {
   "cell_type": "code",
   "execution_count": 162,
   "outputs": [
    {
     "data": {
      "text/plain": "['год после',\n 'после расставания',\n 'ребенка прям',\n 'распускание рук',\n 'попытки воспитания',\n 'воспитания ремнем',\n 'линейкой учительницу',\n 'первом классе',\n 'что дети',\n 'старости ненавижу',\n 'страх что',\n 'что чтото',\n 'день икс',\n 'спокойным ребёнком',\n 'кровать дома',\n 'грузчики мама',\n 'ключей дверь',\n 'протяжении парытройки',\n 'парытройки часов',\n 'итоге мама']"
     },
     "execution_count": 162,
     "metadata": {},
     "output_type": "execute_result"
    }
   ],
   "source": [
    "NN_bigrams[100:120]"
   ],
   "metadata": {
    "collapsed": false,
    "pycharm": {
     "name": "#%%\n"
    }
   }
  },
  {
   "cell_type": "markdown",
   "source": [
    "Рассмотрим биграммы, где первым словом является глагол"
   ],
   "metadata": {
    "collapsed": false,
    "pycharm": {
     "name": "#%% md\n"
    }
   }
  },
  {
   "cell_type": "code",
   "execution_count": 163,
   "outputs": [],
   "source": [
    "def get_bigram_starting_with_verb(bigrams):\n",
    "    \"\"\"Выдать список биграмм, начинающихся с глагола.\"\"\"\n",
    "    V_bigrams = []\n",
    "    for first_word,second_word in bigrams:\n",
    "        if first_word in unique_verbs:\n",
    "            V_bigrams.append(\" \".join((first_word,second_word)))\n",
    "\n",
    "    return V_bigrams\n",
    "V_bigrams = get_bigram_starting_with_verb(bigrams_list)"
   ],
   "metadata": {
    "collapsed": false,
    "pycharm": {
     "name": "#%%\n"
    }
   }
  },
  {
   "cell_type": "code",
   "execution_count": 165,
   "outputs": [
    {
     "data": {
      "text/plain": "['решила глянуть',\n 'глянуть порно',\n 'смотрела включила',\n 'включила сразу',\n 'доводит меня',\n 'оргазм есть',\n 'есть но',\n 'хватает вспомнив',\n 'вспомнив что',\n 'когдато понравился',\n 'понравился ролик',\n 'нашла нечто',\n 'дарят друг',\n 'смеются я',\n 'расплакалась я',\n 'работаю секретарём',\n 'стоит мфу',\n 'бесит до',\n 'ходят ко',\n 'распечатываться чем']"
     },
     "execution_count": 165,
     "metadata": {},
     "output_type": "execute_result"
    }
   ],
   "source": [
    "V_bigrams[100:120]"
   ],
   "metadata": {
    "collapsed": false,
    "pycharm": {
     "name": "#%%\n"
    }
   }
  },
  {
   "cell_type": "markdown",
   "source": [
    "Первое слово в биграмме организация"
   ],
   "metadata": {
    "collapsed": false,
    "pycharm": {
     "name": "#%% md\n"
    }
   }
  },
  {
   "cell_type": "code",
   "execution_count": 166,
   "outputs": [],
   "source": [
    "def get_bigram_starting_with_organization(bigrams):\n",
    "    \"\"\"Выдать биграммы, начинающиеся с организации.\"\"\"\n",
    "    org_bigrams = []\n",
    "    for first_word,second_word in bigrams:\n",
    "        if first_word in unique_orgs:\n",
    "            org_bigrams.append(\" \".join((first_word,second_word)))\n",
    "    return org_bigrams\n",
    "org_bigrams = get_bigram_starting_with_organization(bigrams_list)"
   ],
   "metadata": {
    "collapsed": false,
    "pycharm": {
     "name": "#%%\n"
    }
   }
  },
  {
   "cell_type": "code",
   "execution_count": 167,
   "outputs": [
    {
     "data": {
      "text/plain": "['пёс заметила',\n 'её к',\n 'её числанули',\n 'её со',\n 'её попытки',\n 'кхл или',\n 'мхл а',\n 'её заберут',\n 'её балуют',\n 'её мужем',\n 'её люблю',\n 'метрополь самая',\n 'сны особенно',\n 'сны на',\n 'кино а',\n 'пёс с',\n 'отец его',\n 'камаз соседка',\n 'камаз уже',\n 'тату жарптицу']"
     },
     "execution_count": 167,
     "metadata": {},
     "output_type": "execute_result"
    }
   ],
   "source": [
    "org_bigrams[100:120]"
   ],
   "metadata": {
    "collapsed": false,
    "pycharm": {
     "name": "#%%\n"
    }
   }
  },
  {
   "cell_type": "markdown",
   "source": [
    "Первое слово персона"
   ],
   "metadata": {
    "collapsed": false,
    "pycharm": {
     "name": "#%% md\n"
    }
   }
  },
  {
   "cell_type": "code",
   "execution_count": 168,
   "outputs": [],
   "source": [
    "def get_bigram_starting_with_person(bigrams):\n",
    "    people_bigrams = []\n",
    "    for first_word,second_word in bigrams:\n",
    "        if first_word in unique_people:\n",
    "            people_bigrams.append(\" \".join((first_word,second_word)))\n",
    "    return people_bigrams\n",
    "people_bigrams = get_bigram_starting_with_person(bigrams_list)"
   ],
   "metadata": {
    "collapsed": false,
    "pycharm": {
     "name": "#%%\n"
    }
   }
  },
  {
   "cell_type": "code",
   "execution_count": 169,
   "outputs": [
    {
     "data": {
      "text/plain": "[]"
     },
     "execution_count": 169,
     "metadata": {},
     "output_type": "execute_result"
    }
   ],
   "source": [
    "people_bigrams"
   ],
   "metadata": {
    "collapsed": false,
    "pycharm": {
     "name": "#%%\n"
    }
   }
  },
  {
   "cell_type": "markdown",
   "source": [
    "Сортировка по частоте слов"
   ],
   "metadata": {
    "collapsed": false,
    "pycharm": {
     "name": "#%% md\n"
    }
   }
  },
  {
   "cell_type": "code",
   "execution_count": 170,
   "outputs": [],
   "source": [
    "NN_bigrams_frequency = sort_by_frequency(NN_bigrams)\n",
    "V_bigrams_frequency  = sort_by_frequency(V_bigrams)\n",
    "people_bigrams_frequency = sort_by_frequency(people_bigrams)\n",
    "org_bigrams_frequency = sort_by_frequency(org_bigrams)"
   ],
   "metadata": {
    "collapsed": false,
    "pycharm": {
     "name": "#%%\n"
    }
   }
  },
  {
   "cell_type": "code",
   "execution_count": 171,
   "outputs": [
    {
     "data": {
      "text/plain": "['другом городе',\n 'вроде бы',\n 'а всё',\n 'к родителям',\n 'хочу чтобы',\n 'ну а',\n 'пор помню',\n 'что муж',\n 'какойто момент',\n 'чувствую что',\n 'детском саду',\n 'мысли что',\n 'что после',\n 'что ктото',\n 'время секса',\n 'ну что',\n 'гости к',\n 'а муж',\n 'после смерти',\n 'к врачу',\n 'тысяч рублей',\n 'что хочу',\n 'к другу',\n 'т д',\n 'пару недель',\n 'к сожалению',\n 'пару минут',\n 'до утра',\n 'том чтобы',\n 'другую страну',\n 'представляю что',\n 'первом этаже',\n 'что им',\n 'всё бы',\n 'что бы',\n 'сказав что',\n 'после развода',\n 'что хочет',\n 'это дело',\n 'бывший муж',\n 'ну думаю',\n 'часа ночи',\n 'бесят люди',\n 'подхожу к',\n 'к психологу',\n 'до свадьбы',\n 'пару часов',\n 'после школы',\n 'лет до',\n 'что к']"
     },
     "execution_count": 171,
     "metadata": {},
     "output_type": "execute_result"
    }
   ],
   "source": [
    "list(NN_bigrams_frequency)[50:100]"
   ],
   "metadata": {
    "collapsed": false,
    "pycharm": {
     "name": "#%%\n"
    }
   }
  },
  {
   "cell_type": "code",
   "execution_count": 172,
   "outputs": [
    {
     "data": {
      "text/plain": "['то есть',\n 'живу с',\n 'оттого что',\n 'её не',\n 'её в',\n 'то время',\n 'смотрит на',\n 'знала что',\n 'училась в',\n 'нет я',\n 'были в',\n 'жила в',\n 'бесит когда',\n 'думаю что',\n 'говорю что',\n 'одна из',\n 'работала в',\n 'может быть',\n 'говорил что',\n 'всё в',\n 'както в',\n 'была очень',\n 'заметила что',\n 'какоето время',\n 'то я',\n 'было мне',\n 'была на',\n 'жили в',\n 'жить в',\n 'подумала что',\n 'встречаться с',\n 'сказать что',\n 'всё было',\n 'еду в',\n 'думал что',\n 'ответила что',\n 'её и',\n 'её на',\n 'была маленькая',\n 'узнал что',\n 'знает что',\n 'было так',\n 'жить с',\n 'то и',\n 'была маленькой',\n 'попала в',\n 'вижу что',\n 'переехала в',\n 'смотреть на',\n 'считает что']"
     },
     "execution_count": 172,
     "metadata": {},
     "output_type": "execute_result"
    }
   ],
   "source": [
    "list(V_bigrams_frequency)[50:100]"
   ],
   "metadata": {
    "collapsed": false,
    "pycharm": {
     "name": "#%%\n"
    }
   }
  },
  {
   "cell_type": "code",
   "execution_count": 173,
   "outputs": [
    {
     "data": {
      "text/plain": "[]"
     },
     "execution_count": 173,
     "metadata": {},
     "output_type": "execute_result"
    }
   ],
   "source": [
    "list(people_bigrams_frequency)[50:100]"
   ],
   "metadata": {
    "collapsed": false,
    "pycharm": {
     "name": "#%%\n"
    }
   }
  },
  {
   "cell_type": "code",
   "execution_count": 174,
   "outputs": [
    {
     "data": {
      "text/plain": "['её уже',\n 'отец ушёл',\n 'её дочь',\n 'чём я',\n 'её так',\n 'й год',\n 'её смерти',\n 'её сын',\n 'дом не',\n 'вк и',\n 'блять не',\n 'её мужем',\n 'её у',\n 'кино на',\n 'её люблю',\n 'дом с',\n 'ято знаю',\n 'вкус и',\n 'её сына',\n 'её подруга',\n 'её же',\n 'дом я',\n 'её от',\n 'дом у',\n 'отец а',\n 'минут после',\n 'её стороны',\n 'её мнению',\n 'отец бросил',\n 'её что',\n 'её жизнь',\n 'её лицо',\n 'бабуля с',\n 'её все',\n 'её когда',\n 'минут не',\n 'тату на',\n 'её жизни',\n 'отец я',\n 'отец сказал',\n 'блять в',\n 'её словам',\n 'блять как',\n 'её мне',\n 'отец на',\n 'кг при',\n 'минут назад',\n 'бабуля и',\n 'её ещё',\n 'telegram там']"
     },
     "execution_count": 174,
     "metadata": {},
     "output_type": "execute_result"
    }
   ],
   "source": [
    "list(org_bigrams_frequency)[50:100]"
   ],
   "metadata": {
    "collapsed": false,
    "pycharm": {
     "name": "#%%\n"
    }
   }
  },
  {
   "cell_type": "markdown",
   "source": [
    "Топ 25 биграмм с двумя существительными"
   ],
   "metadata": {
    "collapsed": false,
    "pycharm": {
     "name": "#%% md\n"
    }
   }
  },
  {
   "cell_type": "code",
   "execution_count": 175,
   "outputs": [
    {
     "data": {
      "text/plain": "<Figure size 432x288 with 1 Axes>",
      "image/png": "[encoded data removed]"
     },
     "metadata": {
      "needs_background": "light"
     },
     "output_type": "display_data"
    }
   ],
   "source": [
    "top_25_NN_bigram = get_top_n_from_order_dict(NN_bigrams_frequency,25)\n",
    "visualize_list_of_tuple(top_25_NN_bigram)"
   ],
   "metadata": {
    "collapsed": false,
    "pycharm": {
     "name": "#%%\n"
    }
   }
  },
  {
   "cell_type": "markdown",
   "source": [
    "## Кластеризация документов"
   ],
   "metadata": {
    "collapsed": false,
    "pycharm": {
     "name": "#%% md\n"
    }
   }
  },
  {
   "cell_type": "code",
   "execution_count": 181,
   "outputs": [
    {
     "name": "stdout",
     "output_type": "stream",
     "text": [
      "Collecting scikit-learn\n",
      "  Using cached scikit_learn-1.0.2-cp39-cp39-win_amd64.whl (7.2 MB)\n",
      "Requirement already satisfied: joblib>=0.11 in c:\\users\\dmitry\\appdata\\local\\programs\\python\\python39\\lib\\site-packages (from scikit-learn) (1.1.0)\n",
      "Requirement already satisfied: numpy>=1.14.6 in c:\\users\\dmitry\\appdata\\local\\programs\\python\\python39\\lib\\site-packages (from scikit-learn) (1.22.3)\n",
      "Collecting threadpoolctl>=2.0.0\n",
      "  Using cached threadpoolctl-3.1.0-py3-none-any.whl (14 kB)\n",
      "Collecting scipy>=1.1.0\n",
      "  Using cached scipy-1.8.0-cp39-cp39-win_amd64.whl (36.9 MB)\n",
      "Installing collected packages: threadpoolctl, scipy, scikit-learn\n",
      "Successfully installed scikit-learn-1.0.2 scipy-1.8.0 threadpoolctl-3.1.0\n"
     ]
    }
   ],
   "source": [
    "!pip install scikit-learn"
   ],
   "metadata": {
    "collapsed": false,
    "pycharm": {
     "name": "#%%\n"
    }
   }
  },
  {
   "cell_type": "markdown",
   "source": [
    "Очистим документ перед кластеризацией"
   ],
   "metadata": {
    "collapsed": false,
    "pycharm": {
     "name": "#%% md\n"
    }
   }
  },
  {
   "cell_type": "code",
   "execution_count": 176,
   "outputs": [],
   "source": [
    "documents = posts_df[\"text\"].to_list()"
   ],
   "metadata": {
    "collapsed": false,
    "pycharm": {
     "name": "#%%\n"
    }
   }
  },
  {
   "cell_type": "code",
   "execution_count": 179,
   "outputs": [
    {
     "data": {
      "text/plain": "'был в отношениях с девушкой  года жили вместе всё прекрасно это я так думал пока в один прекрасный день я вернувшись с работы домой не обнаружил что в нашей квартире живут другие люди мои вещи в сумках у соседей девушка вне зоны оказывается её папа поставил условие либо я либо ключи от новенькой машины как же я был слеп  '"
     },
     "execution_count": 179,
     "metadata": {},
     "output_type": "execute_result"
    }
   ],
   "source": [
    "cleaned_documents = []\n",
    "for document in documents:\n",
    "    document = clean_data(document).lower()\n",
    "    cleaned_documents.append(document)\n",
    "documents = cleaned_documents\n",
    "documents[20]"
   ],
   "metadata": {
    "collapsed": false,
    "pycharm": {
     "name": "#%%\n"
    }
   }
  },
  {
   "cell_type": "code",
   "execution_count": 182,
   "outputs": [],
   "source": [
    "from sklearn.cluster import KMeans\n",
    "from sklearn.pipeline import Pipeline\n",
    "from sklearn.feature_extraction.text import CountVectorizer, TfidfTransformer\n",
    "import time"
   ],
   "metadata": {
    "collapsed": false,
    "pycharm": {
     "name": "#%%\n"
    }
   }
  },
  {
   "cell_type": "code",
   "execution_count": 200,
   "outputs": [],
   "source": [
    "class DocumentCluster:\n",
    "    \"\"\"Определение кластера докуманта.\"\"\"\n",
    "    def __init__(self,model,data):\n",
    "        self.model = model\n",
    "        self.data = data\n",
    "        self.model_name = self._get_model_name()\n",
    "\n",
    "        self.cluster_pipeline = None\n",
    "\n",
    "    def _get_model_name(self):\n",
    "        \"\"\"Выдать название, используемой модели.\"\"\"\n",
    "        model_name = str(self.model).split('(')[0]\n",
    "        return model_name\n",
    "\n",
    "    def train_model(self,ngram: int,use_idf: bool):\n",
    "        \"\"\"Обучение модели.\"\"\"\n",
    "        current_time = time.time()\n",
    "\n",
    "        self.cluster_pipeline = Pipeline([\n",
    "            ('vect', CountVectorizer(ngram_range=(1,ngram), analyzer=\"word\")),\n",
    "            ('tfidf', TfidfTransformer(use_idf=use_idf)),\n",
    "            ('model', self.model),\n",
    "        ])\n",
    "        self.cluster_pipeline.fit(self.data)\n",
    "        train_time = time.time() - current_time\n",
    "\n",
    "        print(\"Обучение модели завершено.\")\n",
    "        print(f\"Модель {self.model_name} : {train_time} сек.\")\n",
    "\n",
    "\n",
    "    def predict(self):\n",
    "        \"\"\"Выдать кластер id.\"\"\"\n",
    "        self.document_id_dict = {}\n",
    "        self.cluster_id = []\n",
    "        for document in tqdm(self.data):\n",
    "            cluster_id = self.cluster_pipeline.predict([document])[0]\n",
    "            self.document_id_dict.update({document:cluster_id})\n",
    "            self.cluster_id.append(cluster_id)\n",
    "\n",
    "        return self.document_id_dict"
   ],
   "metadata": {
    "collapsed": false,
    "pycharm": {
     "name": "#%%\n"
    }
   }
  },
  {
   "cell_type": "markdown",
   "source": [
    "Используем модель K-средних с 4 кластерами"
   ],
   "metadata": {
    "collapsed": false,
    "pycharm": {
     "name": "#%% md\n"
    }
   }
  },
  {
   "cell_type": "code",
   "execution_count": 201,
   "outputs": [],
   "source": [
    "cluster_num = 4"
   ],
   "metadata": {
    "collapsed": false,
    "pycharm": {
     "name": "#%%\n"
    }
   }
  },
  {
   "cell_type": "code",
   "execution_count": 202,
   "outputs": [],
   "source": [
    "model = KMeans(n_clusters=cluster_num, init = \"k-means++\",max_iter=150,n_init=1)"
   ],
   "metadata": {
    "collapsed": false,
    "pycharm": {
     "name": "#%%\n"
    }
   }
  },
  {
   "cell_type": "code",
   "execution_count": 203,
   "outputs": [],
   "source": [
    "doc_cluster = DocumentCluster(data=documents, model=model)"
   ],
   "metadata": {
    "collapsed": false,
    "pycharm": {
     "name": "#%%\n"
    }
   }
  },
  {
   "cell_type": "code",
   "execution_count": 204,
   "outputs": [
    {
     "name": "stdout",
     "output_type": "stream",
     "text": [
      "Обучение модели завершено.\n",
      "Модель KMeans : 91.98015928268433 сек.\n"
     ]
    }
   ],
   "source": [
    "doc_cluster.train_model(ngram=2, use_idf=True)"
   ],
   "metadata": {
    "collapsed": false,
    "pycharm": {
     "name": "#%%\n"
    }
   }
  },
  {
   "cell_type": "code",
   "execution_count": 205,
   "outputs": [
    {
     "name": "stderr",
     "output_type": "stream",
     "text": [
      "100%|██████████| 87994/87994 [1:46:55<00:00, 13.72it/s]\n"
     ]
    }
   ],
   "source": [
    "result_docs = doc_cluster.predict()"
   ],
   "metadata": {
    "collapsed": false,
    "pycharm": {
     "name": "#%%\n"
    }
   }
  },
  {
   "cell_type": "code",
   "execution_count": 214,
   "outputs": [
    {
     "name": "stderr",
     "output_type": "stream",
     "text": [
      "100%|██████████| 4/4 [00:00<00:00, 26.67it/s]\n"
     ]
    }
   ],
   "source": [
    "clusters_text = []\n",
    "for i in tqdm(range(cluster_num)):\n",
    "    text = \" \".join([k for k,v in result_docs.items() if v == i])\n",
    "    clusters_text.append(text)"
   ],
   "metadata": {
    "collapsed": false,
    "pycharm": {
     "name": "#%%\n"
    }
   }
  },
  {
   "cell_type": "code",
   "execution_count": 224,
   "outputs": [
    {
     "data": {
      "text/plain": "[2, 2, 2, 3, 2, 2, 2, 2, 2, 1, 2, 2, 2, 3, 2, 3, 2, 1, 2, 2]"
     },
     "execution_count": 224,
     "metadata": {},
     "output_type": "execute_result"
    }
   ],
   "source": [
    "doc_cluster.cluster_id[0:20]"
   ],
   "metadata": {
    "collapsed": false,
    "pycharm": {
     "name": "#%%\n"
    }
   }
  },
  {
   "cell_type": "markdown",
   "source": [
    "Анализ биграмм всех кластеров"
   ],
   "metadata": {
    "collapsed": false,
    "pycharm": {
     "name": "#%% md\n"
    }
   }
  },
  {
   "cell_type": "markdown",
   "source": [
    "Возьмем так же первые 25 биграмм каждого кластера"
   ],
   "metadata": {
    "collapsed": false,
    "pycharm": {
     "name": "#%% md\n"
    }
   }
  },
  {
   "cell_type": "code",
   "execution_count": 240,
   "outputs": [],
   "source": [
    "def get_cluster_analysis_results(cluster_text: list):\n",
    "    \"\"\"Выдать результаты кластерного анализа.\"\"\"\n",
    "    clusters = {}\n",
    "\n",
    "    for i, text in tqdm(enumerate(cluster_text)):\n",
    "        if text == 'nan':\n",
    "            continue\n",
    "        tokens = text.split()\n",
    "        # Используя токены слов, найдем биграммы\n",
    "        bigram_list = create_bigram(tokens)\n",
    "        bigrams = [\" \".join(bigram) for bigram in list(bigram_list)]\n",
    "        bigram_frequency = sort_by_frequency(bigrams)\n",
    "        top_bigrams = get_top_n_from_order_dict(bigram_frequency,25)\n",
    "\n",
    "        # Ищем биграммы с двумя существительными\n",
    "        NN_bigrams = get_noun_noun_bigram(bigram_list)\n",
    "        NN_bigrams_frequency = sort_by_frequency(NN_bigrams)\n",
    "        top_NN_bigrams = get_top_n_from_order_dict(NN_bigrams_frequency,25)\n",
    "\n",
    "        # Ищем биграммы, начиная с глагола\n",
    "        V_bigrams = get_bigram_starting_with_verb(bigram_list)\n",
    "        V_bigrams_frequency = sort_by_frequency(V_bigrams)\n",
    "        top_V_bigrams = get_top_n_from_order_dict(V_bigrams_frequency,25)\n",
    "\n",
    "        # # Ищем биграммы с персоной\n",
    "        # people_bigrams = get_bigram_starting_with_person(bigram_list)\n",
    "        # people_bigrams_frequency = sort_by_frequency(people_bigrams)\n",
    "        # top_people_bigrams = get_top_n_from_order_dict(people_bigrams_frequency,25)\n",
    "\n",
    "        # # Поиск биграмм с организацией\n",
    "        # org_bigrams = get_bigram_starting_with_organization(bigram_list)\n",
    "        # org_bigrams_frequency = sort_by_frequency(org_bigrams)\n",
    "        # top_org_bigrams = get_top_n_from_order_dict(org_bigrams_frequency,25)\n",
    "\n",
    "\n",
    "        cluster_analysis_result = {\n",
    "            \"bigram_freq\":top_bigrams,\n",
    "            \"noun_noun_bigram\":top_NN_bigrams,\n",
    "            \"verb_bigram\":top_V_bigrams,\n",
    "            # \"people_bigram\": top_people_bigrams,\n",
    "            # \"organization_bigram\":top_org_bigrams,\n",
    "        }\n",
    "        clusters.update({i:cluster_analysis_result})\n",
    "    return clusters"
   ],
   "metadata": {
    "collapsed": false,
    "pycharm": {
     "name": "#%%\n"
    }
   }
  },
  {
   "cell_type": "code",
   "execution_count": 241,
   "outputs": [
    {
     "name": "stderr",
     "output_type": "stream",
     "text": [
      "4it [00:54, 13.64s/it]\n"
     ]
    }
   ],
   "source": [
    "all_clusters = get_cluster_analysis_results(clusters_text)"
   ],
   "metadata": {
    "collapsed": false,
    "pycharm": {
     "name": "#%%\n"
    }
   }
  },
  {
   "cell_type": "markdown",
   "source": [
    "Сравним различные биграммы из разных кластеров"
   ],
   "metadata": {
    "collapsed": false,
    "pycharm": {
     "name": "#%% md\n"
    }
   }
  },
  {
   "cell_type": "code",
   "execution_count": 245,
   "outputs": [],
   "source": [
    "def compare_bigram_of_clusters(comparision_parameter):\n",
    "    \"\"\"Создаем сравнительный DataFrame.\"\"\"\n",
    "    cluster_data = {}\n",
    "    for cluster_id in tqdm(range(cluster_num)):\n",
    "        try:\n",
    "            cluster_result = all_clusters[cluster_id]\n",
    "            data = cluster_result[comparision_parameter]\n",
    "            bigram, frequency = zip(*data)\n",
    "            col1 = \"bigram_cluster_\" + str(cluster_id)\n",
    "            col2 = \"bigram_freq_cluster_\" + str(cluster_id)\n",
    "            cluster_data.update({col1:bigram, col2: frequency})\n",
    "        except:\n",
    "            continue\n",
    "    return pd.DataFrame(data=cluster_data)"
   ],
   "metadata": {
    "collapsed": false,
    "pycharm": {
     "name": "#%%\n"
    }
   }
  },
  {
   "cell_type": "code",
   "execution_count": 246,
   "outputs": [
    {
     "name": "stderr",
     "output_type": "stream",
     "text": [
      "100%|██████████| 4/4 [00:00<00:00, 3998.38it/s]\n"
     ]
    },
    {
     "data": {
      "text/plain": "   bigram_cluster_1  bigram_freq_cluster_1 bigram_cluster_2  \\\n0            у меня                   4290           у меня   \n1            что он                   3556             и не   \n2             что я                   2874            что я   \n3              я не                   2644             я не   \n4            у него                   2596              а я   \n5              и не                   2423              и я   \n6             с ним                   2415       потому что   \n7               а я                   2227            у нас   \n8        потому что                   1997          не могу   \n9              а он                   1985        в детстве   \n10              и я                   1948          когда я   \n11            он не                   1782          не было   \n12             и он                   1640              и в   \n13            у нас                   1583          что это   \n14          не было                   1419          а потом   \n15         с парнем                   1344          так как   \n16          не могу                   1335            и вот   \n17          со мной                   1330           до сих   \n18          что это                   1305       никогда не   \n19          так как                   1279          сих пор   \n20          когда я                   1230            так и   \n21       никогда не                   1230           как же   \n22           до сих                   1226          в итоге   \n23          сих пор                   1213        ничего не   \n24       сказал что                   1177             мы с   \n\n    bigram_freq_cluster_2 bigram_cluster_3  bigram_freq_cluster_3  \n0                    9140           у меня                   3731  \n1                    4235          что она                   2530  \n2                    4201            что я                   2299  \n3                    4120             я не                   2075  \n4                    3589             и не                   1993  \n5                    3431            с ней                   1884  \n6                    3242            у неё                   1755  \n7                    3024       потому что                   1685  \n8                    2849              а я                   1678  \n9                    2803              и я                   1482  \n10                   2243           она не                   1451  \n11                   2227            а она                   1333  \n12                   2220           до сих                   1322  \n13                   2196          сих пор                   1312  \n14                   2140          не было                   1265  \n15                   2064         мне было                   1241  \n16                   1972          когда я                   1235  \n17                   1945            у нас                   1233  \n18                   1921            и она                   1224  \n19                   1918          так как                   1174  \n20                   1912       никогда не                   1104  \n21                   1816      сказала что                   1087  \n22                   1786          что это                   1065  \n23                   1718          не могу                   1018  \n24                   1647          со мной                   1007  ",
      "text/html": "<div>\n<style scoped>\n    .dataframe tbody tr th:only-of-type {\n        vertical-align: middle;\n    }\n\n    .dataframe tbody tr th {\n        vertical-align: top;\n    }\n\n    .dataframe thead th {\n        text-align: right;\n    }\n</style>\n<table border=\"1\" class=\"dataframe\">\n  <thead>\n    <tr style=\"text-align: right;\">\n      <th></th>\n      <th>bigram_cluster_1</th>\n      <th>bigram_freq_cluster_1</th>\n      <th>bigram_cluster_2</th>\n      <th>bigram_freq_cluster_2</th>\n      <th>bigram_cluster_3</th>\n      <th>bigram_freq_cluster_3</th>\n    </tr>\n  </thead>\n  <tbody>\n    <tr>\n      <th>0</th>\n      <td>у меня</td>\n      <td>4290</td>\n      <td>у меня</td>\n      <td>9140</td>\n      <td>у меня</td>\n      <td>3731</td>\n    </tr>\n    <tr>\n      <th>1</th>\n      <td>что он</td>\n      <td>3556</td>\n      <td>и не</td>\n      <td>4235</td>\n      <td>что она</td>\n      <td>2530</td>\n    </tr>\n    <tr>\n      <th>2</th>\n      <td>что я</td>\n      <td>2874</td>\n      <td>что я</td>\n      <td>4201</td>\n      <td>что я</td>\n      <td>2299</td>\n    </tr>\n    <tr>\n      <th>3</th>\n      <td>я не</td>\n      <td>2644</td>\n      <td>я не</td>\n      <td>4120</td>\n      <td>я не</td>\n      <td>2075</td>\n    </tr>\n    <tr>\n      <th>4</th>\n      <td>у него</td>\n      <td>2596</td>\n      <td>а я</td>\n      <td>3589</td>\n      <td>и не</td>\n      <td>1993</td>\n    </tr>\n    <tr>\n      <th>5</th>\n      <td>и не</td>\n      <td>2423</td>\n      <td>и я</td>\n      <td>3431</td>\n      <td>с ней</td>\n      <td>1884</td>\n    </tr>\n    <tr>\n      <th>6</th>\n      <td>с ним</td>\n      <td>2415</td>\n      <td>потому что</td>\n      <td>3242</td>\n      <td>у неё</td>\n      <td>1755</td>\n    </tr>\n    <tr>\n      <th>7</th>\n      <td>а я</td>\n      <td>2227</td>\n      <td>у нас</td>\n      <td>3024</td>\n      <td>потому что</td>\n      <td>1685</td>\n    </tr>\n    <tr>\n      <th>8</th>\n      <td>потому что</td>\n      <td>1997</td>\n      <td>не могу</td>\n      <td>2849</td>\n      <td>а я</td>\n      <td>1678</td>\n    </tr>\n    <tr>\n      <th>9</th>\n      <td>а он</td>\n      <td>1985</td>\n      <td>в детстве</td>\n      <td>2803</td>\n      <td>и я</td>\n      <td>1482</td>\n    </tr>\n    <tr>\n      <th>10</th>\n      <td>и я</td>\n      <td>1948</td>\n      <td>когда я</td>\n      <td>2243</td>\n      <td>она не</td>\n      <td>1451</td>\n    </tr>\n    <tr>\n      <th>11</th>\n      <td>он не</td>\n      <td>1782</td>\n      <td>не было</td>\n      <td>2227</td>\n      <td>а она</td>\n      <td>1333</td>\n    </tr>\n    <tr>\n      <th>12</th>\n      <td>и он</td>\n      <td>1640</td>\n      <td>и в</td>\n      <td>2220</td>\n      <td>до сих</td>\n      <td>1322</td>\n    </tr>\n    <tr>\n      <th>13</th>\n      <td>у нас</td>\n      <td>1583</td>\n      <td>что это</td>\n      <td>2196</td>\n      <td>сих пор</td>\n      <td>1312</td>\n    </tr>\n    <tr>\n      <th>14</th>\n      <td>не было</td>\n      <td>1419</td>\n      <td>а потом</td>\n      <td>2140</td>\n      <td>не было</td>\n      <td>1265</td>\n    </tr>\n    <tr>\n      <th>15</th>\n      <td>с парнем</td>\n      <td>1344</td>\n      <td>так как</td>\n      <td>2064</td>\n      <td>мне было</td>\n      <td>1241</td>\n    </tr>\n    <tr>\n      <th>16</th>\n      <td>не могу</td>\n      <td>1335</td>\n      <td>и вот</td>\n      <td>1972</td>\n      <td>когда я</td>\n      <td>1235</td>\n    </tr>\n    <tr>\n      <th>17</th>\n      <td>со мной</td>\n      <td>1330</td>\n      <td>до сих</td>\n      <td>1945</td>\n      <td>у нас</td>\n      <td>1233</td>\n    </tr>\n    <tr>\n      <th>18</th>\n      <td>что это</td>\n      <td>1305</td>\n      <td>никогда не</td>\n      <td>1921</td>\n      <td>и она</td>\n      <td>1224</td>\n    </tr>\n    <tr>\n      <th>19</th>\n      <td>так как</td>\n      <td>1279</td>\n      <td>сих пор</td>\n      <td>1918</td>\n      <td>так как</td>\n      <td>1174</td>\n    </tr>\n    <tr>\n      <th>20</th>\n      <td>когда я</td>\n      <td>1230</td>\n      <td>так и</td>\n      <td>1912</td>\n      <td>никогда не</td>\n      <td>1104</td>\n    </tr>\n    <tr>\n      <th>21</th>\n      <td>никогда не</td>\n      <td>1230</td>\n      <td>как же</td>\n      <td>1816</td>\n      <td>сказала что</td>\n      <td>1087</td>\n    </tr>\n    <tr>\n      <th>22</th>\n      <td>до сих</td>\n      <td>1226</td>\n      <td>в итоге</td>\n      <td>1786</td>\n      <td>что это</td>\n      <td>1065</td>\n    </tr>\n    <tr>\n      <th>23</th>\n      <td>сих пор</td>\n      <td>1213</td>\n      <td>ничего не</td>\n      <td>1718</td>\n      <td>не могу</td>\n      <td>1018</td>\n    </tr>\n    <tr>\n      <th>24</th>\n      <td>сказал что</td>\n      <td>1177</td>\n      <td>мы с</td>\n      <td>1647</td>\n      <td>со мной</td>\n      <td>1007</td>\n    </tr>\n  </tbody>\n</table>\n</div>"
     },
     "execution_count": 246,
     "metadata": {},
     "output_type": "execute_result"
    }
   ],
   "source": [
    "df = compare_bigram_of_clusters(\"bigram_freq\")\n",
    "df"
   ],
   "metadata": {
    "collapsed": false,
    "pycharm": {
     "name": "#%%\n"
    }
   }
  },
  {
   "cell_type": "code",
   "execution_count": 247,
   "outputs": [
    {
     "name": "stderr",
     "output_type": "stream",
     "text": [
      "100%|██████████| 4/4 [00:00<?, ?it/s]\n"
     ]
    },
    {
     "data": {
      "text/plain": "     bigram_cluster_1  bigram_freq_cluster_1 bigram_cluster_2  \\\n0             что это                   1305          что это   \n1              то что                    900           то что   \n2             том что                    767          том что   \n3         говорит что                    568    день рождения   \n4          думала что                    408       думала что   \n5           это время                    401             а то   \n6     молодой человек                    392        это время   \n7          друг друга                    348          всё это   \n8       день рождения                    316   следующий день   \n9      следующий день                    305        всё равно   \n10            всё это                    274       друг друга   \n11  молодым человеком                    268       самом деле   \n12          всё равно                    248          тем что   \n13            тем что                    210      говорит что   \n14         друг другу                    193        както раз   \n15          както раз                    189  молодой человек   \n16               а то                    181        пару дней   \n17         самом деле                    176       друг другу   \n18              лет а                    174          всё что   \n19          пару дней                    171            а это   \n20       полтора года                    157            а что   \n21            всё что                    153         пару раз   \n22           пару лет                    153         пару лет   \n23            что муж                    145         до конца   \n24            вид что                    144          это всё   \n\n    bigram_freq_cluster_2 bigram_cluster_3  bigram_freq_cluster_3  \n0                    2196          что это                   1065  \n1                    1401           то что                    841  \n2                    1184          том что                    608  \n3                     662      говорит что                    511  \n4                     620    день рождения                    322  \n5                     594           что её                    318  \n6                     565        это время                    277  \n7                     555       думала что                    264  \n8                     528   следующий день                    260  \n9                     506         что мама                    230  \n10                    501          всё это                    224  \n11                    454          тем что                    222  \n12                    411        всё равно                    205  \n13                    408       друг друга                    200  \n14                    400        както раз                    193  \n15                    368           а мама                    170  \n16                    320             а то                    168  \n17                    295        всё время                    165  \n18                    294            лет а                    161  \n19                    286         пару лет                    157  \n20                    286        к бабушке                    147  \n21                    272       самом деле                    141  \n22                    267        пару дней                    135  \n23                    264           её муж                    133  \n24                    264          что всё                    131  ",
      "text/html": "<div>\n<style scoped>\n    .dataframe tbody tr th:only-of-type {\n        vertical-align: middle;\n    }\n\n    .dataframe tbody tr th {\n        vertical-align: top;\n    }\n\n    .dataframe thead th {\n        text-align: right;\n    }\n</style>\n<table border=\"1\" class=\"dataframe\">\n  <thead>\n    <tr style=\"text-align: right;\">\n      <th></th>\n      <th>bigram_cluster_1</th>\n      <th>bigram_freq_cluster_1</th>\n      <th>bigram_cluster_2</th>\n      <th>bigram_freq_cluster_2</th>\n      <th>bigram_cluster_3</th>\n      <th>bigram_freq_cluster_3</th>\n    </tr>\n  </thead>\n  <tbody>\n    <tr>\n      <th>0</th>\n      <td>что это</td>\n      <td>1305</td>\n      <td>что это</td>\n      <td>2196</td>\n      <td>что это</td>\n      <td>1065</td>\n    </tr>\n    <tr>\n      <th>1</th>\n      <td>то что</td>\n      <td>900</td>\n      <td>то что</td>\n      <td>1401</td>\n      <td>то что</td>\n      <td>841</td>\n    </tr>\n    <tr>\n      <th>2</th>\n      <td>том что</td>\n      <td>767</td>\n      <td>том что</td>\n      <td>1184</td>\n      <td>том что</td>\n      <td>608</td>\n    </tr>\n    <tr>\n      <th>3</th>\n      <td>говорит что</td>\n      <td>568</td>\n      <td>день рождения</td>\n      <td>662</td>\n      <td>говорит что</td>\n      <td>511</td>\n    </tr>\n    <tr>\n      <th>4</th>\n      <td>думала что</td>\n      <td>408</td>\n      <td>думала что</td>\n      <td>620</td>\n      <td>день рождения</td>\n      <td>322</td>\n    </tr>\n    <tr>\n      <th>5</th>\n      <td>это время</td>\n      <td>401</td>\n      <td>а то</td>\n      <td>594</td>\n      <td>что её</td>\n      <td>318</td>\n    </tr>\n    <tr>\n      <th>6</th>\n      <td>молодой человек</td>\n      <td>392</td>\n      <td>это время</td>\n      <td>565</td>\n      <td>это время</td>\n      <td>277</td>\n    </tr>\n    <tr>\n      <th>7</th>\n      <td>друг друга</td>\n      <td>348</td>\n      <td>всё это</td>\n      <td>555</td>\n      <td>думала что</td>\n      <td>264</td>\n    </tr>\n    <tr>\n      <th>8</th>\n      <td>день рождения</td>\n      <td>316</td>\n      <td>следующий день</td>\n      <td>528</td>\n      <td>следующий день</td>\n      <td>260</td>\n    </tr>\n    <tr>\n      <th>9</th>\n      <td>следующий день</td>\n      <td>305</td>\n      <td>всё равно</td>\n      <td>506</td>\n      <td>что мама</td>\n      <td>230</td>\n    </tr>\n    <tr>\n      <th>10</th>\n      <td>всё это</td>\n      <td>274</td>\n      <td>друг друга</td>\n      <td>501</td>\n      <td>всё это</td>\n      <td>224</td>\n    </tr>\n    <tr>\n      <th>11</th>\n      <td>молодым человеком</td>\n      <td>268</td>\n      <td>самом деле</td>\n      <td>454</td>\n      <td>тем что</td>\n      <td>222</td>\n    </tr>\n    <tr>\n      <th>12</th>\n      <td>всё равно</td>\n      <td>248</td>\n      <td>тем что</td>\n      <td>411</td>\n      <td>всё равно</td>\n      <td>205</td>\n    </tr>\n    <tr>\n      <th>13</th>\n      <td>тем что</td>\n      <td>210</td>\n      <td>говорит что</td>\n      <td>408</td>\n      <td>друг друга</td>\n      <td>200</td>\n    </tr>\n    <tr>\n      <th>14</th>\n      <td>друг другу</td>\n      <td>193</td>\n      <td>както раз</td>\n      <td>400</td>\n      <td>както раз</td>\n      <td>193</td>\n    </tr>\n    <tr>\n      <th>15</th>\n      <td>както раз</td>\n      <td>189</td>\n      <td>молодой человек</td>\n      <td>368</td>\n      <td>а мама</td>\n      <td>170</td>\n    </tr>\n    <tr>\n      <th>16</th>\n      <td>а то</td>\n      <td>181</td>\n      <td>пару дней</td>\n      <td>320</td>\n      <td>а то</td>\n      <td>168</td>\n    </tr>\n    <tr>\n      <th>17</th>\n      <td>самом деле</td>\n      <td>176</td>\n      <td>друг другу</td>\n      <td>295</td>\n      <td>всё время</td>\n      <td>165</td>\n    </tr>\n    <tr>\n      <th>18</th>\n      <td>лет а</td>\n      <td>174</td>\n      <td>всё что</td>\n      <td>294</td>\n      <td>лет а</td>\n      <td>161</td>\n    </tr>\n    <tr>\n      <th>19</th>\n      <td>пару дней</td>\n      <td>171</td>\n      <td>а это</td>\n      <td>286</td>\n      <td>пару лет</td>\n      <td>157</td>\n    </tr>\n    <tr>\n      <th>20</th>\n      <td>полтора года</td>\n      <td>157</td>\n      <td>а что</td>\n      <td>286</td>\n      <td>к бабушке</td>\n      <td>147</td>\n    </tr>\n    <tr>\n      <th>21</th>\n      <td>всё что</td>\n      <td>153</td>\n      <td>пару раз</td>\n      <td>272</td>\n      <td>самом деле</td>\n      <td>141</td>\n    </tr>\n    <tr>\n      <th>22</th>\n      <td>пару лет</td>\n      <td>153</td>\n      <td>пару лет</td>\n      <td>267</td>\n      <td>пару дней</td>\n      <td>135</td>\n    </tr>\n    <tr>\n      <th>23</th>\n      <td>что муж</td>\n      <td>145</td>\n      <td>до конца</td>\n      <td>264</td>\n      <td>её муж</td>\n      <td>133</td>\n    </tr>\n    <tr>\n      <th>24</th>\n      <td>вид что</td>\n      <td>144</td>\n      <td>это всё</td>\n      <td>264</td>\n      <td>что всё</td>\n      <td>131</td>\n    </tr>\n  </tbody>\n</table>\n</div>"
     },
     "execution_count": 247,
     "metadata": {},
     "output_type": "execute_result"
    }
   ],
   "source": [
    "df = compare_bigram_of_clusters(\"noun_noun_bigram\")\n",
    "df"
   ],
   "metadata": {
    "collapsed": false,
    "pycharm": {
     "name": "#%%\n"
    }
   }
  },
  {
   "cell_type": "code",
   "execution_count": null,
   "outputs": [],
   "source": [],
   "metadata": {
    "collapsed": false,
    "pycharm": {
     "name": "#%%\n"
    }
   }
  }
 ],
 "metadata": {
  "kernelspec": {
   "display_name": "Python 3",
   "language": "python",
   "name": "python3"
  },
  "language_info": {
   "codemirror_mode": {
    "name": "ipython",
    "version": 2
   },
   "file_extension": ".py",
   "mimetype": "text/x-python",
   "name": "python",
   "nbconvert_exporter": "python",
   "pygments_lexer": "ipython2",
   "version": "2.7.6"
  }
 },
 "nbformat": 4,
 "nbformat_minor": 0
}